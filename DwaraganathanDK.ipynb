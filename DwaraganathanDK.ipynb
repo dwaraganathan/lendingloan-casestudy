{
 "cells": [
  {
   "cell_type": "code",
   "execution_count": 1,
   "id": "19ce5bd2",
   "metadata": {},
   "outputs": [],
   "source": [
    "#Lending Club Case Study"
   ]
  },
  {
   "cell_type": "markdown",
   "id": "eda11fe2",
   "metadata": {},
   "source": [
    "**Problem Statement**\n",
    "\n",
    "   In this case study, we will use EDA to understand how consumer attributes and loan attributes influence the tendency of default. The aim is to identify patterns which indicate if a person is likely to default, which may be used for taking actions such as denying the loan, reducing the amount of loan, lending (to risky applicants) at a higher interest rate, etc. \n",
    "   We can ask questions like:\n",
    "- Does a higher interest rate or loan amount influence the defaulters? \n",
    "- What factors affect the defaulters?\n",
    "- Which customers become defaulters?\n",
    "\n",
    " Three factors that decides the defaulters are\n",
    "- Customer Demographics\n",
    "- Applied Amount details\n",
    "- Customer Behavioral attributes  \n",
    " We need to consider the attributes which drives for defaulters and find out the drivers using this data set."
   ]
  },
  {
   "cell_type": "markdown",
   "id": "d8d4bfca",
   "metadata": {},
   "source": [
    "## Data Initialization"
   ]
  },
  {
   "cell_type": "code",
   "execution_count": 2,
   "id": "9dbf1c0d",
   "metadata": {},
   "outputs": [],
   "source": [
    "#Import all the libraries need for the case study\n",
    "import pandas as pd #to read the data in dataframes\n",
    "import numpy as np #Library needed for mathematics computation\n",
    "import matplotlib.pyplot as plt # For Data Visualisation\n",
    "import seaborn as sns # Useful for data visualisation\n",
    "%matplotlib inline"
   ]
  },
  {
   "cell_type": "code",
   "execution_count": 3,
   "id": "ed7a623d",
   "metadata": {},
   "outputs": [
    {
     "data": {
      "text/html": [
       "<div>\n",
       "<style scoped>\n",
       "    .dataframe tbody tr th:only-of-type {\n",
       "        vertical-align: middle;\n",
       "    }\n",
       "\n",
       "    .dataframe tbody tr th {\n",
       "        vertical-align: top;\n",
       "    }\n",
       "\n",
       "    .dataframe thead th {\n",
       "        text-align: right;\n",
       "    }\n",
       "</style>\n",
       "<table border=\"1\" class=\"dataframe\">\n",
       "  <thead>\n",
       "    <tr style=\"text-align: right;\">\n",
       "      <th></th>\n",
       "      <th>id</th>\n",
       "      <th>member_id</th>\n",
       "      <th>loan_amnt</th>\n",
       "      <th>funded_amnt</th>\n",
       "      <th>funded_amnt_inv</th>\n",
       "      <th>term</th>\n",
       "      <th>int_rate</th>\n",
       "      <th>installment</th>\n",
       "      <th>grade</th>\n",
       "      <th>sub_grade</th>\n",
       "      <th>...</th>\n",
       "      <th>num_tl_90g_dpd_24m</th>\n",
       "      <th>num_tl_op_past_12m</th>\n",
       "      <th>pct_tl_nvr_dlq</th>\n",
       "      <th>percent_bc_gt_75</th>\n",
       "      <th>pub_rec_bankruptcies</th>\n",
       "      <th>tax_liens</th>\n",
       "      <th>tot_hi_cred_lim</th>\n",
       "      <th>total_bal_ex_mort</th>\n",
       "      <th>total_bc_limit</th>\n",
       "      <th>total_il_high_credit_limit</th>\n",
       "    </tr>\n",
       "  </thead>\n",
       "  <tbody>\n",
       "    <tr>\n",
       "      <th>0</th>\n",
       "      <td>1077501</td>\n",
       "      <td>1296599</td>\n",
       "      <td>5000</td>\n",
       "      <td>5000</td>\n",
       "      <td>4975.0</td>\n",
       "      <td>36 months</td>\n",
       "      <td>10.65%</td>\n",
       "      <td>162.87</td>\n",
       "      <td>B</td>\n",
       "      <td>B2</td>\n",
       "      <td>...</td>\n",
       "      <td>NaN</td>\n",
       "      <td>NaN</td>\n",
       "      <td>NaN</td>\n",
       "      <td>NaN</td>\n",
       "      <td>0.0</td>\n",
       "      <td>0.0</td>\n",
       "      <td>NaN</td>\n",
       "      <td>NaN</td>\n",
       "      <td>NaN</td>\n",
       "      <td>NaN</td>\n",
       "    </tr>\n",
       "    <tr>\n",
       "      <th>1</th>\n",
       "      <td>1077430</td>\n",
       "      <td>1314167</td>\n",
       "      <td>2500</td>\n",
       "      <td>2500</td>\n",
       "      <td>2500.0</td>\n",
       "      <td>60 months</td>\n",
       "      <td>15.27%</td>\n",
       "      <td>59.83</td>\n",
       "      <td>C</td>\n",
       "      <td>C4</td>\n",
       "      <td>...</td>\n",
       "      <td>NaN</td>\n",
       "      <td>NaN</td>\n",
       "      <td>NaN</td>\n",
       "      <td>NaN</td>\n",
       "      <td>0.0</td>\n",
       "      <td>0.0</td>\n",
       "      <td>NaN</td>\n",
       "      <td>NaN</td>\n",
       "      <td>NaN</td>\n",
       "      <td>NaN</td>\n",
       "    </tr>\n",
       "    <tr>\n",
       "      <th>2</th>\n",
       "      <td>1077175</td>\n",
       "      <td>1313524</td>\n",
       "      <td>2400</td>\n",
       "      <td>2400</td>\n",
       "      <td>2400.0</td>\n",
       "      <td>36 months</td>\n",
       "      <td>15.96%</td>\n",
       "      <td>84.33</td>\n",
       "      <td>C</td>\n",
       "      <td>C5</td>\n",
       "      <td>...</td>\n",
       "      <td>NaN</td>\n",
       "      <td>NaN</td>\n",
       "      <td>NaN</td>\n",
       "      <td>NaN</td>\n",
       "      <td>0.0</td>\n",
       "      <td>0.0</td>\n",
       "      <td>NaN</td>\n",
       "      <td>NaN</td>\n",
       "      <td>NaN</td>\n",
       "      <td>NaN</td>\n",
       "    </tr>\n",
       "    <tr>\n",
       "      <th>3</th>\n",
       "      <td>1076863</td>\n",
       "      <td>1277178</td>\n",
       "      <td>10000</td>\n",
       "      <td>10000</td>\n",
       "      <td>10000.0</td>\n",
       "      <td>36 months</td>\n",
       "      <td>13.49%</td>\n",
       "      <td>339.31</td>\n",
       "      <td>C</td>\n",
       "      <td>C1</td>\n",
       "      <td>...</td>\n",
       "      <td>NaN</td>\n",
       "      <td>NaN</td>\n",
       "      <td>NaN</td>\n",
       "      <td>NaN</td>\n",
       "      <td>0.0</td>\n",
       "      <td>0.0</td>\n",
       "      <td>NaN</td>\n",
       "      <td>NaN</td>\n",
       "      <td>NaN</td>\n",
       "      <td>NaN</td>\n",
       "    </tr>\n",
       "    <tr>\n",
       "      <th>4</th>\n",
       "      <td>1075358</td>\n",
       "      <td>1311748</td>\n",
       "      <td>3000</td>\n",
       "      <td>3000</td>\n",
       "      <td>3000.0</td>\n",
       "      <td>60 months</td>\n",
       "      <td>12.69%</td>\n",
       "      <td>67.79</td>\n",
       "      <td>B</td>\n",
       "      <td>B5</td>\n",
       "      <td>...</td>\n",
       "      <td>NaN</td>\n",
       "      <td>NaN</td>\n",
       "      <td>NaN</td>\n",
       "      <td>NaN</td>\n",
       "      <td>0.0</td>\n",
       "      <td>0.0</td>\n",
       "      <td>NaN</td>\n",
       "      <td>NaN</td>\n",
       "      <td>NaN</td>\n",
       "      <td>NaN</td>\n",
       "    </tr>\n",
       "  </tbody>\n",
       "</table>\n",
       "<p>5 rows × 111 columns</p>\n",
       "</div>"
      ],
      "text/plain": [
       "        id  member_id  loan_amnt  funded_amnt  funded_amnt_inv        term  \\\n",
       "0  1077501    1296599       5000         5000           4975.0   36 months   \n",
       "1  1077430    1314167       2500         2500           2500.0   60 months   \n",
       "2  1077175    1313524       2400         2400           2400.0   36 months   \n",
       "3  1076863    1277178      10000        10000          10000.0   36 months   \n",
       "4  1075358    1311748       3000         3000           3000.0   60 months   \n",
       "\n",
       "  int_rate  installment grade sub_grade  ... num_tl_90g_dpd_24m  \\\n",
       "0   10.65%       162.87     B        B2  ...                NaN   \n",
       "1   15.27%        59.83     C        C4  ...                NaN   \n",
       "2   15.96%        84.33     C        C5  ...                NaN   \n",
       "3   13.49%       339.31     C        C1  ...                NaN   \n",
       "4   12.69%        67.79     B        B5  ...                NaN   \n",
       "\n",
       "  num_tl_op_past_12m pct_tl_nvr_dlq  percent_bc_gt_75 pub_rec_bankruptcies  \\\n",
       "0                NaN            NaN               NaN                  0.0   \n",
       "1                NaN            NaN               NaN                  0.0   \n",
       "2                NaN            NaN               NaN                  0.0   \n",
       "3                NaN            NaN               NaN                  0.0   \n",
       "4                NaN            NaN               NaN                  0.0   \n",
       "\n",
       "  tax_liens tot_hi_cred_lim total_bal_ex_mort total_bc_limit  \\\n",
       "0       0.0             NaN               NaN            NaN   \n",
       "1       0.0             NaN               NaN            NaN   \n",
       "2       0.0             NaN               NaN            NaN   \n",
       "3       0.0             NaN               NaN            NaN   \n",
       "4       0.0             NaN               NaN            NaN   \n",
       "\n",
       "  total_il_high_credit_limit  \n",
       "0                        NaN  \n",
       "1                        NaN  \n",
       "2                        NaN  \n",
       "3                        NaN  \n",
       "4                        NaN  \n",
       "\n",
       "[5 rows x 111 columns]"
      ]
     },
     "execution_count": 3,
     "metadata": {},
     "output_type": "execute_result"
    }
   ],
   "source": [
    "#Reading csv file and display few rows to see the data set\n",
    "#low_memory is set False to overcome a warning message\n",
    "df = pd.read_csv('loan.csv',header=0,low_memory=False)\n",
    "df.head()"
   ]
  },
  {
   "cell_type": "code",
   "execution_count": 4,
   "id": "09a63c3d",
   "metadata": {},
   "outputs": [
    {
     "data": {
      "text/plain": [
       "(39717, 111)"
      ]
     },
     "execution_count": 4,
     "metadata": {},
     "output_type": "execute_result"
    }
   ],
   "source": [
    "#check the shape of the data set\n",
    "df.shape"
   ]
  },
  {
   "cell_type": "markdown",
   "id": "362c57e4",
   "metadata": {},
   "source": [
    "**We have 39717 rows and 111 columns**"
   ]
  },
  {
   "cell_type": "code",
   "execution_count": 5,
   "id": "1280c30e",
   "metadata": {},
   "outputs": [
    {
     "name": "stdout",
     "output_type": "stream",
     "text": [
      "<class 'pandas.core.frame.DataFrame'>\n",
      "RangeIndex: 39717 entries, 0 to 39716\n",
      "Columns: 111 entries, id to total_il_high_credit_limit\n",
      "dtypes: float64(74), int64(13), object(24)\n",
      "memory usage: 33.6+ MB\n"
     ]
    }
   ],
   "source": [
    "#Check the datatypes, Column details\n",
    "df.info()"
   ]
  },
  {
   "cell_type": "markdown",
   "id": "13582d04",
   "metadata": {},
   "source": [
    "## Data Cleaning\n",
    "  Under Data cleaning, we have certain ways to follow:\n",
    "- Fixing Rows and Columns\n",
    "- Fixing missing values\n",
    "- Standardising Values\n",
    "- Fix Invalid Values\n",
    "- Filtering data"
   ]
  },
  {
   "cell_type": "markdown",
   "id": "901d0b9b",
   "metadata": {},
   "source": [
    "### Filtering Data\n",
    "Let us check the duplicates of the data\n",
    "\n",
    "#### Checking for duplicates in the rows\n",
    "Here attributes **\"id\"** and **\"member_id\"** looks like a key values. So verify whether we have duplicates in these two columns."
   ]
  },
  {
   "cell_type": "code",
   "execution_count": 6,
   "id": "62dcd44f",
   "metadata": {},
   "outputs": [
    {
     "data": {
      "text/plain": [
       "(0, 111)"
      ]
     },
     "execution_count": 6,
     "metadata": {},
     "output_type": "execute_result"
    }
   ],
   "source": [
    "#Check whether we have any duplicates for the columns id and member_id\n",
    "duplicate_df = df[df.duplicated(['id','member_id'])]\n",
    "duplicate_df.shape"
   ]
  },
  {
   "cell_type": "markdown",
   "id": "5d562765",
   "metadata": {},
   "source": [
    "We dont have duplicate rows in this data set. And we have proper rows and columns headings."
   ]
  },
  {
   "cell_type": "markdown",
   "id": "dc3f9057",
   "metadata": {},
   "source": [
    "### Fixing Missing Values\n",
    "Drop the columns which have Null values in the entire row."
   ]
  },
  {
   "cell_type": "code",
   "execution_count": 7,
   "id": "d9177740",
   "metadata": {},
   "outputs": [],
   "source": [
    "#Drop the columns which have Null values in all the rows of the column\n",
    "df = df.dropna(axis=1,how='all')"
   ]
  },
  {
   "cell_type": "code",
   "execution_count": 8,
   "id": "e5d232ec",
   "metadata": {},
   "outputs": [
    {
     "data": {
      "text/plain": [
       "(39717, 57)"
      ]
     },
     "execution_count": 8,
     "metadata": {},
     "output_type": "execute_result"
    }
   ],
   "source": [
    "df.shape"
   ]
  },
  {
   "cell_type": "markdown",
   "id": "c688002e",
   "metadata": {},
   "source": [
    "Earlier we had 111 columns and after dropping the columns with Null values in all the rows we have total of 57 rows."
   ]
  },
  {
   "cell_type": "code",
   "execution_count": 9,
   "id": "e582d703",
   "metadata": {},
   "outputs": [
    {
     "name": "stdout",
     "output_type": "stream",
     "text": [
      "<class 'pandas.core.frame.DataFrame'>\n",
      "RangeIndex: 39717 entries, 0 to 39716\n",
      "Data columns (total 57 columns):\n",
      " #   Column                      Non-Null Count  Dtype  \n",
      "---  ------                      --------------  -----  \n",
      " 0   id                          39717 non-null  int64  \n",
      " 1   member_id                   39717 non-null  int64  \n",
      " 2   loan_amnt                   39717 non-null  int64  \n",
      " 3   funded_amnt                 39717 non-null  int64  \n",
      " 4   funded_amnt_inv             39717 non-null  float64\n",
      " 5   term                        39717 non-null  object \n",
      " 6   int_rate                    39717 non-null  object \n",
      " 7   installment                 39717 non-null  float64\n",
      " 8   grade                       39717 non-null  object \n",
      " 9   sub_grade                   39717 non-null  object \n",
      " 10  emp_title                   37258 non-null  object \n",
      " 11  emp_length                  38642 non-null  object \n",
      " 12  home_ownership              39717 non-null  object \n",
      " 13  annual_inc                  39717 non-null  float64\n",
      " 14  verification_status         39717 non-null  object \n",
      " 15  issue_d                     39717 non-null  object \n",
      " 16  loan_status                 39717 non-null  object \n",
      " 17  pymnt_plan                  39717 non-null  object \n",
      " 18  url                         39717 non-null  object \n",
      " 19  desc                        26777 non-null  object \n",
      " 20  purpose                     39717 non-null  object \n",
      " 21  title                       39706 non-null  object \n",
      " 22  zip_code                    39717 non-null  object \n",
      " 23  addr_state                  39717 non-null  object \n",
      " 24  dti                         39717 non-null  float64\n",
      " 25  delinq_2yrs                 39717 non-null  int64  \n",
      " 26  earliest_cr_line            39717 non-null  object \n",
      " 27  inq_last_6mths              39717 non-null  int64  \n",
      " 28  mths_since_last_delinq      14035 non-null  float64\n",
      " 29  mths_since_last_record      2786 non-null   float64\n",
      " 30  open_acc                    39717 non-null  int64  \n",
      " 31  pub_rec                     39717 non-null  int64  \n",
      " 32  revol_bal                   39717 non-null  int64  \n",
      " 33  revol_util                  39667 non-null  object \n",
      " 34  total_acc                   39717 non-null  int64  \n",
      " 35  initial_list_status         39717 non-null  object \n",
      " 36  out_prncp                   39717 non-null  float64\n",
      " 37  out_prncp_inv               39717 non-null  float64\n",
      " 38  total_pymnt                 39717 non-null  float64\n",
      " 39  total_pymnt_inv             39717 non-null  float64\n",
      " 40  total_rec_prncp             39717 non-null  float64\n",
      " 41  total_rec_int               39717 non-null  float64\n",
      " 42  total_rec_late_fee          39717 non-null  float64\n",
      " 43  recoveries                  39717 non-null  float64\n",
      " 44  collection_recovery_fee     39717 non-null  float64\n",
      " 45  last_pymnt_d                39646 non-null  object \n",
      " 46  last_pymnt_amnt             39717 non-null  float64\n",
      " 47  next_pymnt_d                1140 non-null   object \n",
      " 48  last_credit_pull_d          39715 non-null  object \n",
      " 49  collections_12_mths_ex_med  39661 non-null  float64\n",
      " 50  policy_code                 39717 non-null  int64  \n",
      " 51  application_type            39717 non-null  object \n",
      " 52  acc_now_delinq              39717 non-null  int64  \n",
      " 53  chargeoff_within_12_mths    39661 non-null  float64\n",
      " 54  delinq_amnt                 39717 non-null  int64  \n",
      " 55  pub_rec_bankruptcies        39020 non-null  float64\n",
      " 56  tax_liens                   39678 non-null  float64\n",
      "dtypes: float64(20), int64(13), object(24)\n",
      "memory usage: 17.3+ MB\n"
     ]
    }
   ],
   "source": [
    "#Check the information of the data set like column names, data types, Non-null count etc.\n",
    "df.info()"
   ]
  },
  {
   "cell_type": "code",
   "execution_count": 10,
   "id": "778a528d",
   "metadata": {},
   "outputs": [
    {
     "data": {
      "text/html": [
       "<div>\n",
       "<style scoped>\n",
       "    .dataframe tbody tr th:only-of-type {\n",
       "        vertical-align: middle;\n",
       "    }\n",
       "\n",
       "    .dataframe tbody tr th {\n",
       "        vertical-align: top;\n",
       "    }\n",
       "\n",
       "    .dataframe thead th {\n",
       "        text-align: right;\n",
       "    }\n",
       "</style>\n",
       "<table border=\"1\" class=\"dataframe\">\n",
       "  <thead>\n",
       "    <tr style=\"text-align: right;\">\n",
       "      <th></th>\n",
       "      <th>id</th>\n",
       "      <th>member_id</th>\n",
       "      <th>loan_amnt</th>\n",
       "      <th>funded_amnt</th>\n",
       "      <th>funded_amnt_inv</th>\n",
       "      <th>term</th>\n",
       "      <th>int_rate</th>\n",
       "      <th>installment</th>\n",
       "      <th>grade</th>\n",
       "      <th>sub_grade</th>\n",
       "      <th>...</th>\n",
       "      <th>next_pymnt_d</th>\n",
       "      <th>last_credit_pull_d</th>\n",
       "      <th>collections_12_mths_ex_med</th>\n",
       "      <th>policy_code</th>\n",
       "      <th>application_type</th>\n",
       "      <th>acc_now_delinq</th>\n",
       "      <th>chargeoff_within_12_mths</th>\n",
       "      <th>delinq_amnt</th>\n",
       "      <th>pub_rec_bankruptcies</th>\n",
       "      <th>tax_liens</th>\n",
       "    </tr>\n",
       "  </thead>\n",
       "  <tbody>\n",
       "    <tr>\n",
       "      <th>0</th>\n",
       "      <td>1077501</td>\n",
       "      <td>1296599</td>\n",
       "      <td>5000</td>\n",
       "      <td>5000</td>\n",
       "      <td>4975.0</td>\n",
       "      <td>36 months</td>\n",
       "      <td>10.65%</td>\n",
       "      <td>162.87</td>\n",
       "      <td>B</td>\n",
       "      <td>B2</td>\n",
       "      <td>...</td>\n",
       "      <td>NaN</td>\n",
       "      <td>May-16</td>\n",
       "      <td>0.0</td>\n",
       "      <td>1</td>\n",
       "      <td>INDIVIDUAL</td>\n",
       "      <td>0</td>\n",
       "      <td>0.0</td>\n",
       "      <td>0</td>\n",
       "      <td>0.0</td>\n",
       "      <td>0.0</td>\n",
       "    </tr>\n",
       "    <tr>\n",
       "      <th>1</th>\n",
       "      <td>1077430</td>\n",
       "      <td>1314167</td>\n",
       "      <td>2500</td>\n",
       "      <td>2500</td>\n",
       "      <td>2500.0</td>\n",
       "      <td>60 months</td>\n",
       "      <td>15.27%</td>\n",
       "      <td>59.83</td>\n",
       "      <td>C</td>\n",
       "      <td>C4</td>\n",
       "      <td>...</td>\n",
       "      <td>NaN</td>\n",
       "      <td>Sep-13</td>\n",
       "      <td>0.0</td>\n",
       "      <td>1</td>\n",
       "      <td>INDIVIDUAL</td>\n",
       "      <td>0</td>\n",
       "      <td>0.0</td>\n",
       "      <td>0</td>\n",
       "      <td>0.0</td>\n",
       "      <td>0.0</td>\n",
       "    </tr>\n",
       "    <tr>\n",
       "      <th>2</th>\n",
       "      <td>1077175</td>\n",
       "      <td>1313524</td>\n",
       "      <td>2400</td>\n",
       "      <td>2400</td>\n",
       "      <td>2400.0</td>\n",
       "      <td>36 months</td>\n",
       "      <td>15.96%</td>\n",
       "      <td>84.33</td>\n",
       "      <td>C</td>\n",
       "      <td>C5</td>\n",
       "      <td>...</td>\n",
       "      <td>NaN</td>\n",
       "      <td>May-16</td>\n",
       "      <td>0.0</td>\n",
       "      <td>1</td>\n",
       "      <td>INDIVIDUAL</td>\n",
       "      <td>0</td>\n",
       "      <td>0.0</td>\n",
       "      <td>0</td>\n",
       "      <td>0.0</td>\n",
       "      <td>0.0</td>\n",
       "    </tr>\n",
       "    <tr>\n",
       "      <th>3</th>\n",
       "      <td>1076863</td>\n",
       "      <td>1277178</td>\n",
       "      <td>10000</td>\n",
       "      <td>10000</td>\n",
       "      <td>10000.0</td>\n",
       "      <td>36 months</td>\n",
       "      <td>13.49%</td>\n",
       "      <td>339.31</td>\n",
       "      <td>C</td>\n",
       "      <td>C1</td>\n",
       "      <td>...</td>\n",
       "      <td>NaN</td>\n",
       "      <td>Apr-16</td>\n",
       "      <td>0.0</td>\n",
       "      <td>1</td>\n",
       "      <td>INDIVIDUAL</td>\n",
       "      <td>0</td>\n",
       "      <td>0.0</td>\n",
       "      <td>0</td>\n",
       "      <td>0.0</td>\n",
       "      <td>0.0</td>\n",
       "    </tr>\n",
       "    <tr>\n",
       "      <th>4</th>\n",
       "      <td>1075358</td>\n",
       "      <td>1311748</td>\n",
       "      <td>3000</td>\n",
       "      <td>3000</td>\n",
       "      <td>3000.0</td>\n",
       "      <td>60 months</td>\n",
       "      <td>12.69%</td>\n",
       "      <td>67.79</td>\n",
       "      <td>B</td>\n",
       "      <td>B5</td>\n",
       "      <td>...</td>\n",
       "      <td>Jun-16</td>\n",
       "      <td>May-16</td>\n",
       "      <td>0.0</td>\n",
       "      <td>1</td>\n",
       "      <td>INDIVIDUAL</td>\n",
       "      <td>0</td>\n",
       "      <td>0.0</td>\n",
       "      <td>0</td>\n",
       "      <td>0.0</td>\n",
       "      <td>0.0</td>\n",
       "    </tr>\n",
       "  </tbody>\n",
       "</table>\n",
       "<p>5 rows × 57 columns</p>\n",
       "</div>"
      ],
      "text/plain": [
       "        id  member_id  loan_amnt  funded_amnt  funded_amnt_inv        term  \\\n",
       "0  1077501    1296599       5000         5000           4975.0   36 months   \n",
       "1  1077430    1314167       2500         2500           2500.0   60 months   \n",
       "2  1077175    1313524       2400         2400           2400.0   36 months   \n",
       "3  1076863    1277178      10000        10000          10000.0   36 months   \n",
       "4  1075358    1311748       3000         3000           3000.0   60 months   \n",
       "\n",
       "  int_rate  installment grade sub_grade  ... next_pymnt_d last_credit_pull_d  \\\n",
       "0   10.65%       162.87     B        B2  ...          NaN             May-16   \n",
       "1   15.27%        59.83     C        C4  ...          NaN             Sep-13   \n",
       "2   15.96%        84.33     C        C5  ...          NaN             May-16   \n",
       "3   13.49%       339.31     C        C1  ...          NaN             Apr-16   \n",
       "4   12.69%        67.79     B        B5  ...       Jun-16             May-16   \n",
       "\n",
       "  collections_12_mths_ex_med  policy_code application_type acc_now_delinq  \\\n",
       "0                        0.0            1       INDIVIDUAL              0   \n",
       "1                        0.0            1       INDIVIDUAL              0   \n",
       "2                        0.0            1       INDIVIDUAL              0   \n",
       "3                        0.0            1       INDIVIDUAL              0   \n",
       "4                        0.0            1       INDIVIDUAL              0   \n",
       "\n",
       "  chargeoff_within_12_mths delinq_amnt pub_rec_bankruptcies tax_liens  \n",
       "0                      0.0           0                  0.0       0.0  \n",
       "1                      0.0           0                  0.0       0.0  \n",
       "2                      0.0           0                  0.0       0.0  \n",
       "3                      0.0           0                  0.0       0.0  \n",
       "4                      0.0           0                  0.0       0.0  \n",
       "\n",
       "[5 rows x 57 columns]"
      ]
     },
     "execution_count": 10,
     "metadata": {},
     "output_type": "execute_result"
    }
   ],
   "source": [
    "#Check values in the dataset for the first 5 rows\n",
    "df.head()"
   ]
  },
  {
   "cell_type": "code",
   "execution_count": 11,
   "id": "9afb1cb1",
   "metadata": {},
   "outputs": [
    {
     "data": {
      "text/plain": [
       "Index(['id', 'member_id', 'loan_amnt', 'funded_amnt', 'funded_amnt_inv',\n",
       "       'term', 'int_rate', 'installment', 'grade', 'sub_grade', 'emp_title',\n",
       "       'emp_length', 'home_ownership', 'annual_inc', 'verification_status',\n",
       "       'issue_d', 'loan_status', 'pymnt_plan', 'url', 'desc', 'purpose',\n",
       "       'title', 'zip_code', 'addr_state', 'dti', 'delinq_2yrs',\n",
       "       'earliest_cr_line', 'inq_last_6mths', 'mths_since_last_delinq',\n",
       "       'mths_since_last_record', 'open_acc', 'pub_rec', 'revol_bal',\n",
       "       'revol_util', 'total_acc', 'initial_list_status', 'out_prncp',\n",
       "       'out_prncp_inv', 'total_pymnt', 'total_pymnt_inv', 'total_rec_prncp',\n",
       "       'total_rec_int', 'total_rec_late_fee', 'recoveries',\n",
       "       'collection_recovery_fee', 'last_pymnt_d', 'last_pymnt_amnt',\n",
       "       'next_pymnt_d', 'last_credit_pull_d', 'collections_12_mths_ex_med',\n",
       "       'policy_code', 'application_type', 'acc_now_delinq',\n",
       "       'chargeoff_within_12_mths', 'delinq_amnt', 'pub_rec_bankruptcies',\n",
       "       'tax_liens'],\n",
       "      dtype='object')"
      ]
     },
     "execution_count": 11,
     "metadata": {},
     "output_type": "execute_result"
    }
   ],
   "source": [
    "#Check the column names in the data set\n",
    "df.columns"
   ]
  },
  {
   "cell_type": "code",
   "execution_count": 12,
   "id": "c01d60e9",
   "metadata": {},
   "outputs": [
    {
     "data": {
      "text/plain": [
       "id                                0\n",
       "member_id                         0\n",
       "loan_amnt                         0\n",
       "funded_amnt                       0\n",
       "funded_amnt_inv                   0\n",
       "term                              0\n",
       "int_rate                          0\n",
       "installment                       0\n",
       "grade                             0\n",
       "sub_grade                         0\n",
       "emp_title                      2459\n",
       "emp_length                     1075\n",
       "home_ownership                    0\n",
       "annual_inc                        0\n",
       "verification_status               0\n",
       "issue_d                           0\n",
       "loan_status                       0\n",
       "pymnt_plan                        0\n",
       "url                               0\n",
       "desc                          12940\n",
       "purpose                           0\n",
       "title                            11\n",
       "zip_code                          0\n",
       "addr_state                        0\n",
       "dti                               0\n",
       "delinq_2yrs                       0\n",
       "earliest_cr_line                  0\n",
       "inq_last_6mths                    0\n",
       "mths_since_last_delinq        25682\n",
       "mths_since_last_record        36931\n",
       "open_acc                          0\n",
       "pub_rec                           0\n",
       "revol_bal                         0\n",
       "revol_util                       50\n",
       "total_acc                         0\n",
       "initial_list_status               0\n",
       "out_prncp                         0\n",
       "out_prncp_inv                     0\n",
       "total_pymnt                       0\n",
       "total_pymnt_inv                   0\n",
       "total_rec_prncp                   0\n",
       "total_rec_int                     0\n",
       "total_rec_late_fee                0\n",
       "recoveries                        0\n",
       "collection_recovery_fee           0\n",
       "last_pymnt_d                     71\n",
       "last_pymnt_amnt                   0\n",
       "next_pymnt_d                  38577\n",
       "last_credit_pull_d                2\n",
       "collections_12_mths_ex_med       56\n",
       "policy_code                       0\n",
       "application_type                  0\n",
       "acc_now_delinq                    0\n",
       "chargeoff_within_12_mths         56\n",
       "delinq_amnt                       0\n",
       "pub_rec_bankruptcies            697\n",
       "tax_liens                        39\n",
       "dtype: int64"
      ]
     },
     "execution_count": 12,
     "metadata": {},
     "output_type": "execute_result"
    }
   ],
   "source": [
    "#Check the number of Null values in each column\n",
    "df.isnull().sum()"
   ]
  },
  {
   "cell_type": "markdown",
   "id": "cbb1d7f6",
   "metadata": {},
   "source": [
    "In the above results, we see that columns **mths_since_last_delinq**, **mths_since_last_record**, **next_pymnt_d**, **emp_title**, **emp_length**, **desc** and **pub_rec_bankruptcies** have more null values rows. Let us remove the necessary columns."
   ]
  },
  {
   "cell_type": "code",
   "execution_count": 13,
   "id": "936b479a",
   "metadata": {},
   "outputs": [
    {
     "data": {
      "text/plain": [
       "Index(['mths_since_last_delinq', 'mths_since_last_record', 'next_pymnt_d'], dtype='object')"
      ]
     },
     "execution_count": 13,
     "metadata": {},
     "output_type": "execute_result"
    }
   ],
   "source": [
    "#REmove the columns whose value is more than half of the size of the total rows.\n",
    "rem_columns = df.columns[df.isnull().sum()>(df.shape[0]/2)]\n",
    "rem_columns"
   ]
  },
  {
   "cell_type": "markdown",
   "id": "c6ea1619",
   "metadata": {},
   "source": [
    "Above columns have more null values more than half of the total rows."
   ]
  },
  {
   "cell_type": "code",
   "execution_count": 14,
   "id": "cce4a2d2",
   "metadata": {},
   "outputs": [],
   "source": [
    "#Remove the columns from the dataset\n",
    "df = df.drop(rem_columns,axis=1)"
   ]
  },
  {
   "cell_type": "code",
   "execution_count": 15,
   "id": "257e29ee",
   "metadata": {
    "scrolled": true
   },
   "outputs": [
    {
     "data": {
      "text/plain": [
       "(39717, 54)"
      ]
     },
     "execution_count": 15,
     "metadata": {},
     "output_type": "execute_result"
    }
   ],
   "source": [
    "df.shape"
   ]
  },
  {
   "cell_type": "markdown",
   "id": "5c210fda",
   "metadata": {},
   "source": [
    "We have removed 3 columns from the data set."
   ]
  },
  {
   "cell_type": "code",
   "execution_count": 16,
   "id": "4c7b1451",
   "metadata": {},
   "outputs": [
    {
     "data": {
      "text/html": [
       "<div>\n",
       "<style scoped>\n",
       "    .dataframe tbody tr th:only-of-type {\n",
       "        vertical-align: middle;\n",
       "    }\n",
       "\n",
       "    .dataframe tbody tr th {\n",
       "        vertical-align: top;\n",
       "    }\n",
       "\n",
       "    .dataframe thead th {\n",
       "        text-align: right;\n",
       "    }\n",
       "</style>\n",
       "<table border=\"1\" class=\"dataframe\">\n",
       "  <thead>\n",
       "    <tr style=\"text-align: right;\">\n",
       "      <th></th>\n",
       "      <th>id</th>\n",
       "      <th>member_id</th>\n",
       "      <th>loan_amnt</th>\n",
       "      <th>funded_amnt</th>\n",
       "      <th>funded_amnt_inv</th>\n",
       "      <th>term</th>\n",
       "      <th>int_rate</th>\n",
       "      <th>installment</th>\n",
       "      <th>grade</th>\n",
       "      <th>sub_grade</th>\n",
       "      <th>...</th>\n",
       "      <th>last_pymnt_amnt</th>\n",
       "      <th>last_credit_pull_d</th>\n",
       "      <th>collections_12_mths_ex_med</th>\n",
       "      <th>policy_code</th>\n",
       "      <th>application_type</th>\n",
       "      <th>acc_now_delinq</th>\n",
       "      <th>chargeoff_within_12_mths</th>\n",
       "      <th>delinq_amnt</th>\n",
       "      <th>pub_rec_bankruptcies</th>\n",
       "      <th>tax_liens</th>\n",
       "    </tr>\n",
       "  </thead>\n",
       "  <tbody>\n",
       "    <tr>\n",
       "      <th>0</th>\n",
       "      <td>1077501</td>\n",
       "      <td>1296599</td>\n",
       "      <td>5000</td>\n",
       "      <td>5000</td>\n",
       "      <td>4975.0</td>\n",
       "      <td>36 months</td>\n",
       "      <td>10.65%</td>\n",
       "      <td>162.87</td>\n",
       "      <td>B</td>\n",
       "      <td>B2</td>\n",
       "      <td>...</td>\n",
       "      <td>171.62</td>\n",
       "      <td>May-16</td>\n",
       "      <td>0.0</td>\n",
       "      <td>1</td>\n",
       "      <td>INDIVIDUAL</td>\n",
       "      <td>0</td>\n",
       "      <td>0.0</td>\n",
       "      <td>0</td>\n",
       "      <td>0.0</td>\n",
       "      <td>0.0</td>\n",
       "    </tr>\n",
       "    <tr>\n",
       "      <th>1</th>\n",
       "      <td>1077430</td>\n",
       "      <td>1314167</td>\n",
       "      <td>2500</td>\n",
       "      <td>2500</td>\n",
       "      <td>2500.0</td>\n",
       "      <td>60 months</td>\n",
       "      <td>15.27%</td>\n",
       "      <td>59.83</td>\n",
       "      <td>C</td>\n",
       "      <td>C4</td>\n",
       "      <td>...</td>\n",
       "      <td>119.66</td>\n",
       "      <td>Sep-13</td>\n",
       "      <td>0.0</td>\n",
       "      <td>1</td>\n",
       "      <td>INDIVIDUAL</td>\n",
       "      <td>0</td>\n",
       "      <td>0.0</td>\n",
       "      <td>0</td>\n",
       "      <td>0.0</td>\n",
       "      <td>0.0</td>\n",
       "    </tr>\n",
       "    <tr>\n",
       "      <th>2</th>\n",
       "      <td>1077175</td>\n",
       "      <td>1313524</td>\n",
       "      <td>2400</td>\n",
       "      <td>2400</td>\n",
       "      <td>2400.0</td>\n",
       "      <td>36 months</td>\n",
       "      <td>15.96%</td>\n",
       "      <td>84.33</td>\n",
       "      <td>C</td>\n",
       "      <td>C5</td>\n",
       "      <td>...</td>\n",
       "      <td>649.91</td>\n",
       "      <td>May-16</td>\n",
       "      <td>0.0</td>\n",
       "      <td>1</td>\n",
       "      <td>INDIVIDUAL</td>\n",
       "      <td>0</td>\n",
       "      <td>0.0</td>\n",
       "      <td>0</td>\n",
       "      <td>0.0</td>\n",
       "      <td>0.0</td>\n",
       "    </tr>\n",
       "    <tr>\n",
       "      <th>3</th>\n",
       "      <td>1076863</td>\n",
       "      <td>1277178</td>\n",
       "      <td>10000</td>\n",
       "      <td>10000</td>\n",
       "      <td>10000.0</td>\n",
       "      <td>36 months</td>\n",
       "      <td>13.49%</td>\n",
       "      <td>339.31</td>\n",
       "      <td>C</td>\n",
       "      <td>C1</td>\n",
       "      <td>...</td>\n",
       "      <td>357.48</td>\n",
       "      <td>Apr-16</td>\n",
       "      <td>0.0</td>\n",
       "      <td>1</td>\n",
       "      <td>INDIVIDUAL</td>\n",
       "      <td>0</td>\n",
       "      <td>0.0</td>\n",
       "      <td>0</td>\n",
       "      <td>0.0</td>\n",
       "      <td>0.0</td>\n",
       "    </tr>\n",
       "    <tr>\n",
       "      <th>4</th>\n",
       "      <td>1075358</td>\n",
       "      <td>1311748</td>\n",
       "      <td>3000</td>\n",
       "      <td>3000</td>\n",
       "      <td>3000.0</td>\n",
       "      <td>60 months</td>\n",
       "      <td>12.69%</td>\n",
       "      <td>67.79</td>\n",
       "      <td>B</td>\n",
       "      <td>B5</td>\n",
       "      <td>...</td>\n",
       "      <td>67.79</td>\n",
       "      <td>May-16</td>\n",
       "      <td>0.0</td>\n",
       "      <td>1</td>\n",
       "      <td>INDIVIDUAL</td>\n",
       "      <td>0</td>\n",
       "      <td>0.0</td>\n",
       "      <td>0</td>\n",
       "      <td>0.0</td>\n",
       "      <td>0.0</td>\n",
       "    </tr>\n",
       "    <tr>\n",
       "      <th>5</th>\n",
       "      <td>1075269</td>\n",
       "      <td>1311441</td>\n",
       "      <td>5000</td>\n",
       "      <td>5000</td>\n",
       "      <td>5000.0</td>\n",
       "      <td>36 months</td>\n",
       "      <td>7.90%</td>\n",
       "      <td>156.46</td>\n",
       "      <td>A</td>\n",
       "      <td>A4</td>\n",
       "      <td>...</td>\n",
       "      <td>161.03</td>\n",
       "      <td>Jan-16</td>\n",
       "      <td>0.0</td>\n",
       "      <td>1</td>\n",
       "      <td>INDIVIDUAL</td>\n",
       "      <td>0</td>\n",
       "      <td>0.0</td>\n",
       "      <td>0</td>\n",
       "      <td>0.0</td>\n",
       "      <td>0.0</td>\n",
       "    </tr>\n",
       "    <tr>\n",
       "      <th>6</th>\n",
       "      <td>1069639</td>\n",
       "      <td>1304742</td>\n",
       "      <td>7000</td>\n",
       "      <td>7000</td>\n",
       "      <td>7000.0</td>\n",
       "      <td>60 months</td>\n",
       "      <td>15.96%</td>\n",
       "      <td>170.08</td>\n",
       "      <td>C</td>\n",
       "      <td>C5</td>\n",
       "      <td>...</td>\n",
       "      <td>1313.76</td>\n",
       "      <td>May-16</td>\n",
       "      <td>0.0</td>\n",
       "      <td>1</td>\n",
       "      <td>INDIVIDUAL</td>\n",
       "      <td>0</td>\n",
       "      <td>0.0</td>\n",
       "      <td>0</td>\n",
       "      <td>0.0</td>\n",
       "      <td>0.0</td>\n",
       "    </tr>\n",
       "    <tr>\n",
       "      <th>7</th>\n",
       "      <td>1072053</td>\n",
       "      <td>1288686</td>\n",
       "      <td>3000</td>\n",
       "      <td>3000</td>\n",
       "      <td>3000.0</td>\n",
       "      <td>36 months</td>\n",
       "      <td>18.64%</td>\n",
       "      <td>109.43</td>\n",
       "      <td>E</td>\n",
       "      <td>E1</td>\n",
       "      <td>...</td>\n",
       "      <td>111.34</td>\n",
       "      <td>Dec-14</td>\n",
       "      <td>0.0</td>\n",
       "      <td>1</td>\n",
       "      <td>INDIVIDUAL</td>\n",
       "      <td>0</td>\n",
       "      <td>0.0</td>\n",
       "      <td>0</td>\n",
       "      <td>0.0</td>\n",
       "      <td>0.0</td>\n",
       "    </tr>\n",
       "    <tr>\n",
       "      <th>8</th>\n",
       "      <td>1071795</td>\n",
       "      <td>1306957</td>\n",
       "      <td>5600</td>\n",
       "      <td>5600</td>\n",
       "      <td>5600.0</td>\n",
       "      <td>60 months</td>\n",
       "      <td>21.28%</td>\n",
       "      <td>152.39</td>\n",
       "      <td>F</td>\n",
       "      <td>F2</td>\n",
       "      <td>...</td>\n",
       "      <td>152.39</td>\n",
       "      <td>Aug-12</td>\n",
       "      <td>0.0</td>\n",
       "      <td>1</td>\n",
       "      <td>INDIVIDUAL</td>\n",
       "      <td>0</td>\n",
       "      <td>0.0</td>\n",
       "      <td>0</td>\n",
       "      <td>0.0</td>\n",
       "      <td>0.0</td>\n",
       "    </tr>\n",
       "    <tr>\n",
       "      <th>9</th>\n",
       "      <td>1071570</td>\n",
       "      <td>1306721</td>\n",
       "      <td>5375</td>\n",
       "      <td>5375</td>\n",
       "      <td>5350.0</td>\n",
       "      <td>60 months</td>\n",
       "      <td>12.69%</td>\n",
       "      <td>121.45</td>\n",
       "      <td>B</td>\n",
       "      <td>B5</td>\n",
       "      <td>...</td>\n",
       "      <td>121.45</td>\n",
       "      <td>Mar-13</td>\n",
       "      <td>0.0</td>\n",
       "      <td>1</td>\n",
       "      <td>INDIVIDUAL</td>\n",
       "      <td>0</td>\n",
       "      <td>0.0</td>\n",
       "      <td>0</td>\n",
       "      <td>0.0</td>\n",
       "      <td>0.0</td>\n",
       "    </tr>\n",
       "  </tbody>\n",
       "</table>\n",
       "<p>10 rows × 54 columns</p>\n",
       "</div>"
      ],
      "text/plain": [
       "        id  member_id  loan_amnt  funded_amnt  funded_amnt_inv        term  \\\n",
       "0  1077501    1296599       5000         5000           4975.0   36 months   \n",
       "1  1077430    1314167       2500         2500           2500.0   60 months   \n",
       "2  1077175    1313524       2400         2400           2400.0   36 months   \n",
       "3  1076863    1277178      10000        10000          10000.0   36 months   \n",
       "4  1075358    1311748       3000         3000           3000.0   60 months   \n",
       "5  1075269    1311441       5000         5000           5000.0   36 months   \n",
       "6  1069639    1304742       7000         7000           7000.0   60 months   \n",
       "7  1072053    1288686       3000         3000           3000.0   36 months   \n",
       "8  1071795    1306957       5600         5600           5600.0   60 months   \n",
       "9  1071570    1306721       5375         5375           5350.0   60 months   \n",
       "\n",
       "  int_rate  installment grade sub_grade  ... last_pymnt_amnt  \\\n",
       "0   10.65%       162.87     B        B2  ...          171.62   \n",
       "1   15.27%        59.83     C        C4  ...          119.66   \n",
       "2   15.96%        84.33     C        C5  ...          649.91   \n",
       "3   13.49%       339.31     C        C1  ...          357.48   \n",
       "4   12.69%        67.79     B        B5  ...           67.79   \n",
       "5    7.90%       156.46     A        A4  ...          161.03   \n",
       "6   15.96%       170.08     C        C5  ...         1313.76   \n",
       "7   18.64%       109.43     E        E1  ...          111.34   \n",
       "8   21.28%       152.39     F        F2  ...          152.39   \n",
       "9   12.69%       121.45     B        B5  ...          121.45   \n",
       "\n",
       "  last_credit_pull_d collections_12_mths_ex_med  policy_code application_type  \\\n",
       "0             May-16                        0.0            1       INDIVIDUAL   \n",
       "1             Sep-13                        0.0            1       INDIVIDUAL   \n",
       "2             May-16                        0.0            1       INDIVIDUAL   \n",
       "3             Apr-16                        0.0            1       INDIVIDUAL   \n",
       "4             May-16                        0.0            1       INDIVIDUAL   \n",
       "5             Jan-16                        0.0            1       INDIVIDUAL   \n",
       "6             May-16                        0.0            1       INDIVIDUAL   \n",
       "7             Dec-14                        0.0            1       INDIVIDUAL   \n",
       "8             Aug-12                        0.0            1       INDIVIDUAL   \n",
       "9             Mar-13                        0.0            1       INDIVIDUAL   \n",
       "\n",
       "  acc_now_delinq chargeoff_within_12_mths delinq_amnt pub_rec_bankruptcies  \\\n",
       "0              0                      0.0           0                  0.0   \n",
       "1              0                      0.0           0                  0.0   \n",
       "2              0                      0.0           0                  0.0   \n",
       "3              0                      0.0           0                  0.0   \n",
       "4              0                      0.0           0                  0.0   \n",
       "5              0                      0.0           0                  0.0   \n",
       "6              0                      0.0           0                  0.0   \n",
       "7              0                      0.0           0                  0.0   \n",
       "8              0                      0.0           0                  0.0   \n",
       "9              0                      0.0           0                  0.0   \n",
       "\n",
       "  tax_liens  \n",
       "0       0.0  \n",
       "1       0.0  \n",
       "2       0.0  \n",
       "3       0.0  \n",
       "4       0.0  \n",
       "5       0.0  \n",
       "6       0.0  \n",
       "7       0.0  \n",
       "8       0.0  \n",
       "9       0.0  \n",
       "\n",
       "[10 rows x 54 columns]"
      ]
     },
     "execution_count": 16,
     "metadata": {},
     "output_type": "execute_result"
    }
   ],
   "source": [
    "df.head(10)"
   ]
  },
  {
   "cell_type": "markdown",
   "id": "7cf0741f",
   "metadata": {},
   "source": [
    "We can note that some columns have zero values in the many rows. So let us calculate percentage of number of zeroes in the rows and remove the column accordingly."
   ]
  },
  {
   "cell_type": "code",
   "execution_count": 17,
   "id": "43fcc7d1",
   "metadata": {},
   "outputs": [
    {
     "data": {
      "text/plain": [
       "id                              0.000000\n",
       "member_id                       0.000000\n",
       "loan_amnt                       0.000000\n",
       "funded_amnt                     0.000000\n",
       "funded_amnt_inv                 0.324798\n",
       "term                            0.000000\n",
       "int_rate                        0.000000\n",
       "installment                     0.000000\n",
       "grade                           0.000000\n",
       "sub_grade                       0.000000\n",
       "emp_title                       0.000000\n",
       "emp_length                      0.000000\n",
       "home_ownership                  0.000000\n",
       "annual_inc                      0.000000\n",
       "verification_status             0.000000\n",
       "issue_d                         0.000000\n",
       "loan_status                     0.000000\n",
       "pymnt_plan                      0.000000\n",
       "url                             0.000000\n",
       "desc                            0.000000\n",
       "purpose                         0.000000\n",
       "title                           0.000000\n",
       "zip_code                        0.000000\n",
       "addr_state                      0.000000\n",
       "dti                             0.460760\n",
       "delinq_2yrs                    89.143188\n",
       "earliest_cr_line                0.000000\n",
       "inq_last_6mths                 48.593801\n",
       "open_acc                        0.000000\n",
       "pub_rec                        94.672307\n",
       "revol_bal                       2.502707\n",
       "revol_util                      0.000000\n",
       "total_acc                       0.000000\n",
       "initial_list_status             0.000000\n",
       "out_prncp                      97.129693\n",
       "out_prncp_inv                  97.129693\n",
       "total_pymnt                     0.040285\n",
       "total_pymnt_inv                 0.415439\n",
       "total_rec_prncp                 0.186318\n",
       "total_rec_int                   0.178765\n",
       "total_rec_late_fee             94.848554\n",
       "recoveries                     89.379863\n",
       "collection_recovery_fee        90.477629\n",
       "last_pymnt_d                    0.000000\n",
       "last_pymnt_amnt                 0.186318\n",
       "last_credit_pull_d              0.000000\n",
       "collections_12_mths_ex_med     99.859002\n",
       "policy_code                     0.000000\n",
       "application_type                0.000000\n",
       "acc_now_delinq                100.000000\n",
       "chargeoff_within_12_mths       99.859002\n",
       "delinq_amnt                   100.000000\n",
       "pub_rec_bankruptcies           94.012639\n",
       "tax_liens                      99.901805\n",
       "dtype: float64"
      ]
     },
     "execution_count": 17,
     "metadata": {},
     "output_type": "execute_result"
    }
   ],
   "source": [
    "#Percentage calculation for number of zeroes in each column\n",
    "100*((df==0).sum()/df.shape[0])"
   ]
  },
  {
   "cell_type": "markdown",
   "id": "a18f070e",
   "metadata": {},
   "source": [
    "**Remove the columns which has percentage of above 95 of zeroes in the rows**"
   ]
  },
  {
   "cell_type": "code",
   "execution_count": 18,
   "id": "9bed9ae3",
   "metadata": {},
   "outputs": [
    {
     "data": {
      "text/plain": [
       "Index(['out_prncp', 'out_prncp_inv', 'collections_12_mths_ex_med',\n",
       "       'acc_now_delinq', 'chargeoff_within_12_mths', 'delinq_amnt',\n",
       "       'tax_liens'],\n",
       "      dtype='object')"
      ]
     },
     "execution_count": 18,
     "metadata": {},
     "output_type": "execute_result"
    }
   ],
   "source": [
    "#Extract the columns name which have more percetange of zeroes in the rows.\n",
    "zero_columns = df.columns[(100*((df==0).sum()/df.shape[0]))>95]\n",
    "zero_columns"
   ]
  },
  {
   "cell_type": "markdown",
   "id": "dc5a27ed",
   "metadata": {},
   "source": [
    "**zero_columns** contains the name of the columns to be removed."
   ]
  },
  {
   "cell_type": "code",
   "execution_count": 19,
   "id": "37607190",
   "metadata": {},
   "outputs": [],
   "source": [
    "#Drop the columns by passing \"zero_columns\" list.\n",
    "df = df.drop(zero_columns,axis=1)"
   ]
  },
  {
   "cell_type": "code",
   "execution_count": 20,
   "id": "8e5a1407",
   "metadata": {},
   "outputs": [
    {
     "data": {
      "text/plain": [
       "(39717, 47)"
      ]
     },
     "execution_count": 20,
     "metadata": {},
     "output_type": "execute_result"
    }
   ],
   "source": [
    "#Check the shape of the dataset\n",
    "df.shape"
   ]
  },
  {
   "cell_type": "markdown",
   "id": "10cb579f",
   "metadata": {},
   "source": [
    "Now we can see 47 columns in the dataset from 54 columns."
   ]
  },
  {
   "cell_type": "code",
   "execution_count": 21,
   "id": "9293d6b5",
   "metadata": {},
   "outputs": [
    {
     "data": {
      "text/plain": [
       "id                             0\n",
       "member_id                      0\n",
       "loan_amnt                      0\n",
       "funded_amnt                    0\n",
       "funded_amnt_inv                0\n",
       "term                           0\n",
       "int_rate                       0\n",
       "installment                    0\n",
       "grade                          0\n",
       "sub_grade                      0\n",
       "emp_title                   2459\n",
       "emp_length                  1075\n",
       "home_ownership                 0\n",
       "annual_inc                     0\n",
       "verification_status            0\n",
       "issue_d                        0\n",
       "loan_status                    0\n",
       "pymnt_plan                     0\n",
       "url                            0\n",
       "desc                       12940\n",
       "purpose                        0\n",
       "title                         11\n",
       "zip_code                       0\n",
       "addr_state                     0\n",
       "dti                            0\n",
       "delinq_2yrs                    0\n",
       "earliest_cr_line               0\n",
       "inq_last_6mths                 0\n",
       "open_acc                       0\n",
       "pub_rec                        0\n",
       "revol_bal                      0\n",
       "revol_util                    50\n",
       "total_acc                      0\n",
       "initial_list_status            0\n",
       "total_pymnt                    0\n",
       "total_pymnt_inv                0\n",
       "total_rec_prncp                0\n",
       "total_rec_int                  0\n",
       "total_rec_late_fee             0\n",
       "recoveries                     0\n",
       "collection_recovery_fee        0\n",
       "last_pymnt_d                  71\n",
       "last_pymnt_amnt                0\n",
       "last_credit_pull_d             2\n",
       "policy_code                    0\n",
       "application_type               0\n",
       "pub_rec_bankruptcies         697\n",
       "dtype: int64"
      ]
     },
     "execution_count": 21,
     "metadata": {},
     "output_type": "execute_result"
    }
   ],
   "source": [
    "df.isnull().sum()"
   ]
  },
  {
   "cell_type": "code",
   "execution_count": 22,
   "id": "b48de89f",
   "metadata": {},
   "outputs": [],
   "source": [
    "#We see the emp_title has many Null Values. Let us fill it with some value to give better meaning. So we dont miss the\n",
    "#value while calculating the defaulters detail.\n",
    "df['emp_title'] = df['emp_title'].fillna(\"Others\")"
   ]
  },
  {
   "cell_type": "markdown",
   "id": "13587ec6",
   "metadata": {},
   "source": [
    "In **emp_title** column, we see more null values. So let us have some meaningful value instead of removing the null values."
   ]
  },
  {
   "cell_type": "code",
   "execution_count": 23,
   "id": "2fb41448",
   "metadata": {},
   "outputs": [
    {
     "data": {
      "text/plain": [
       "0                      Others\n",
       "1                       Ryder\n",
       "2                      Others\n",
       "3         AIR RESOURCES BOARD\n",
       "4    University Medical Group\n",
       "Name: emp_title, dtype: object"
      ]
     },
     "execution_count": 23,
     "metadata": {},
     "output_type": "execute_result"
    }
   ],
   "source": [
    "#Check whether Null values are placed with \"Others\"\n",
    "df.emp_title.head()"
   ]
  },
  {
   "cell_type": "code",
   "execution_count": 24,
   "id": "97523f1c",
   "metadata": {},
   "outputs": [
    {
     "data": {
      "text/plain": [
       "id                             0\n",
       "member_id                      0\n",
       "loan_amnt                      0\n",
       "funded_amnt                    0\n",
       "funded_amnt_inv                0\n",
       "term                           0\n",
       "int_rate                       0\n",
       "installment                    0\n",
       "grade                          0\n",
       "sub_grade                      0\n",
       "emp_title                      0\n",
       "emp_length                  1075\n",
       "home_ownership                 0\n",
       "annual_inc                     0\n",
       "verification_status            0\n",
       "issue_d                        0\n",
       "loan_status                    0\n",
       "pymnt_plan                     0\n",
       "url                            0\n",
       "desc                       12940\n",
       "purpose                        0\n",
       "title                         11\n",
       "zip_code                       0\n",
       "addr_state                     0\n",
       "dti                            0\n",
       "delinq_2yrs                    0\n",
       "earliest_cr_line               0\n",
       "inq_last_6mths                 0\n",
       "open_acc                       0\n",
       "pub_rec                        0\n",
       "revol_bal                      0\n",
       "revol_util                    50\n",
       "total_acc                      0\n",
       "initial_list_status            0\n",
       "total_pymnt                    0\n",
       "total_pymnt_inv                0\n",
       "total_rec_prncp                0\n",
       "total_rec_int                  0\n",
       "total_rec_late_fee             0\n",
       "recoveries                     0\n",
       "collection_recovery_fee        0\n",
       "last_pymnt_d                  71\n",
       "last_pymnt_amnt                0\n",
       "last_credit_pull_d             2\n",
       "policy_code                    0\n",
       "application_type               0\n",
       "pub_rec_bankruptcies         697\n",
       "dtype: int64"
      ]
     },
     "execution_count": 24,
     "metadata": {},
     "output_type": "execute_result"
    }
   ],
   "source": [
    "#Check for null values\n",
    "df.isnull().sum()"
   ]
  },
  {
   "cell_type": "markdown",
   "id": "372bb20d",
   "metadata": {},
   "source": [
    "**emp_length** has many null values. We need to fix it up. Since it is categorical data, we can use mode to fill up the values. But check whether it will alter our analysis."
   ]
  },
  {
   "cell_type": "code",
   "execution_count": 25,
   "id": "9ec28235",
   "metadata": {},
   "outputs": [
    {
     "data": {
      "text/plain": [
       "10+ years    8879\n",
       "< 1 year     4583\n",
       "2 years      4388\n",
       "3 years      4095\n",
       "4 years      3436\n",
       "5 years      3282\n",
       "1 year       3240\n",
       "6 years      2229\n",
       "7 years      1773\n",
       "8 years      1479\n",
       "9 years      1258\n",
       "Name: emp_length, dtype: int64"
      ]
     },
     "execution_count": 25,
     "metadata": {},
     "output_type": "execute_result"
    }
   ],
   "source": [
    "#Get the value_counts\n",
    "df['emp_length'].value_counts()"
   ]
  },
  {
   "cell_type": "code",
   "execution_count": 26,
   "id": "5c1eac9f",
   "metadata": {},
   "outputs": [
    {
     "data": {
      "text/plain": [
       "'10+ years'"
      ]
     },
     "execution_count": 26,
     "metadata": {},
     "output_type": "execute_result"
    }
   ],
   "source": [
    "#Find the mode for the column emp_length\n",
    "df['emp_length'].mode()[0]"
   ]
  },
  {
   "cell_type": "markdown",
   "id": "dad52b12",
   "metadata": {},
   "source": [
    "Here we have '10+ years' as mode for column **emp_length**. But it will deviate the data set. Hence instead we will remove the null values in emp_length column."
   ]
  },
  {
   "cell_type": "code",
   "execution_count": 27,
   "id": "16827c5f",
   "metadata": {},
   "outputs": [],
   "source": [
    "#Remove the null values in column emp_length\n",
    "df = df[~df['emp_length'].isnull()]"
   ]
  },
  {
   "cell_type": "markdown",
   "id": "4af94f7c",
   "metadata": {},
   "source": [
    "Let us convert the string datatype to numeric type by extracting the numbers from the string. Before we need to change to **\"< 1 year\"** as **\"0 year\"**. Else when we extract the numeric these two values will join together as 1 years."
   ]
  },
  {
   "cell_type": "code",
   "execution_count": 28,
   "id": "c48ee9f5",
   "metadata": {},
   "outputs": [
    {
     "data": {
      "text/plain": [
       "10+ years    8879\n",
       "0 year       4583\n",
       "2 years      4388\n",
       "3 years      4095\n",
       "4 years      3436\n",
       "5 years      3282\n",
       "1 year       3240\n",
       "6 years      2229\n",
       "7 years      1773\n",
       "8 years      1479\n",
       "9 years      1258\n",
       "Name: emp_length, dtype: int64"
      ]
     },
     "execution_count": 28,
     "metadata": {},
     "output_type": "execute_result"
    }
   ],
   "source": [
    "df.emp_length = df.emp_length.str.replace('< 1 year','0 year')\n",
    "df.emp_length.value_counts()"
   ]
  },
  {
   "cell_type": "code",
   "execution_count": 29,
   "id": "10f92237",
   "metadata": {},
   "outputs": [],
   "source": [
    "#Extract the numeric value from the string using regular expression\n",
    "import re\n",
    "df.emp_length = df.emp_length.apply(lambda x: re.findall('\\d+', str(x))[0])"
   ]
  },
  {
   "cell_type": "code",
   "execution_count": 30,
   "id": "1f2cb49d",
   "metadata": {},
   "outputs": [
    {
     "data": {
      "text/plain": [
       "10    8879\n",
       "0     4583\n",
       "2     4388\n",
       "3     4095\n",
       "4     3436\n",
       "5     3282\n",
       "1     3240\n",
       "6     2229\n",
       "7     1773\n",
       "8     1479\n",
       "9     1258\n",
       "Name: emp_length, dtype: int64"
      ]
     },
     "execution_count": 30,
     "metadata": {},
     "output_type": "execute_result"
    }
   ],
   "source": [
    "#Now verify whether the numeric value is extracted\n",
    "df.emp_length.value_counts()"
   ]
  },
  {
   "cell_type": "markdown",
   "id": "87af0cb3",
   "metadata": {},
   "source": [
    "Convert the data type of object to int64"
   ]
  },
  {
   "cell_type": "code",
   "execution_count": 31,
   "id": "ab1c758c",
   "metadata": {},
   "outputs": [
    {
     "data": {
      "text/plain": [
       "dtype('O')"
      ]
     },
     "execution_count": 31,
     "metadata": {},
     "output_type": "execute_result"
    }
   ],
   "source": [
    "#Check the data type\n",
    "df.emp_length.dtype"
   ]
  },
  {
   "cell_type": "code",
   "execution_count": 32,
   "id": "002276ca",
   "metadata": {},
   "outputs": [],
   "source": [
    "#Convert the type as integer\n",
    "df.emp_length = df.emp_length.astype('int64')"
   ]
  },
  {
   "cell_type": "code",
   "execution_count": 33,
   "id": "335094f4",
   "metadata": {},
   "outputs": [
    {
     "data": {
      "text/plain": [
       "dtype('int64')"
      ]
     },
     "execution_count": 33,
     "metadata": {},
     "output_type": "execute_result"
    }
   ],
   "source": [
    "#Check the data type\n",
    "df.emp_length.dtype"
   ]
  },
  {
   "cell_type": "code",
   "execution_count": 34,
   "id": "2cffbcc0",
   "metadata": {},
   "outputs": [
    {
     "data": {
      "text/plain": [
       "id                             0\n",
       "member_id                      0\n",
       "loan_amnt                      0\n",
       "funded_amnt                    0\n",
       "funded_amnt_inv                0\n",
       "term                           0\n",
       "int_rate                       0\n",
       "installment                    0\n",
       "grade                          0\n",
       "sub_grade                      0\n",
       "emp_title                      0\n",
       "emp_length                     0\n",
       "home_ownership                 0\n",
       "annual_inc                     0\n",
       "verification_status            0\n",
       "issue_d                        0\n",
       "loan_status                    0\n",
       "pymnt_plan                     0\n",
       "url                            0\n",
       "desc                       12495\n",
       "purpose                        0\n",
       "title                         10\n",
       "zip_code                       0\n",
       "addr_state                     0\n",
       "dti                            0\n",
       "delinq_2yrs                    0\n",
       "earliest_cr_line               0\n",
       "inq_last_6mths                 0\n",
       "open_acc                       0\n",
       "pub_rec                        0\n",
       "revol_bal                      0\n",
       "revol_util                    47\n",
       "total_acc                      0\n",
       "initial_list_status            0\n",
       "total_pymnt                    0\n",
       "total_pymnt_inv                0\n",
       "total_rec_prncp                0\n",
       "total_rec_int                  0\n",
       "total_rec_late_fee             0\n",
       "recoveries                     0\n",
       "collection_recovery_fee        0\n",
       "last_pymnt_d                  66\n",
       "last_pymnt_amnt                0\n",
       "last_credit_pull_d             2\n",
       "policy_code                    0\n",
       "application_type               0\n",
       "pub_rec_bankruptcies         697\n",
       "dtype: int64"
      ]
     },
     "execution_count": 34,
     "metadata": {},
     "output_type": "execute_result"
    }
   ],
   "source": [
    "#Check the null values in the column\n",
    "df.isnull().sum()"
   ]
  },
  {
   "cell_type": "markdown",
   "id": "53858be1",
   "metadata": {},
   "source": [
    "Two columns have minimal null values. Let us skip it for now."
   ]
  },
  {
   "cell_type": "code",
   "execution_count": 35,
   "id": "e1612373",
   "metadata": {},
   "outputs": [
    {
     "data": {
      "text/plain": [
       "id                             0\n",
       "member_id                      0\n",
       "loan_amnt                      0\n",
       "funded_amnt                    0\n",
       "funded_amnt_inv              129\n",
       "term                           0\n",
       "int_rate                       0\n",
       "installment                    0\n",
       "grade                          0\n",
       "sub_grade                      0\n",
       "emp_title                      0\n",
       "emp_length                  4583\n",
       "home_ownership                 0\n",
       "annual_inc                     0\n",
       "verification_status            0\n",
       "issue_d                        0\n",
       "loan_status                    0\n",
       "pymnt_plan                     0\n",
       "url                            0\n",
       "desc                           0\n",
       "purpose                        0\n",
       "title                          0\n",
       "zip_code                       0\n",
       "addr_state                     0\n",
       "dti                          173\n",
       "delinq_2yrs                34434\n",
       "earliest_cr_line               0\n",
       "inq_last_6mths             18753\n",
       "open_acc                       0\n",
       "pub_rec                    36649\n",
       "revol_bal                    959\n",
       "revol_util                     0\n",
       "total_acc                      0\n",
       "initial_list_status            0\n",
       "total_pymnt                   15\n",
       "total_pymnt_inv              164\n",
       "total_rec_prncp               69\n",
       "total_rec_int                 66\n",
       "total_rec_late_fee         36647\n",
       "recoveries                 34574\n",
       "collection_recovery_fee    34989\n",
       "last_pymnt_d                   0\n",
       "last_pymnt_amnt               69\n",
       "last_credit_pull_d             0\n",
       "policy_code                    0\n",
       "application_type               0\n",
       "pub_rec_bankruptcies       36375\n",
       "dtype: int64"
      ]
     },
     "execution_count": 35,
     "metadata": {},
     "output_type": "execute_result"
    }
   ],
   "source": [
    "#Check again from the number of zeroes in the dataset in each column\n",
    "(df==0).sum()"
   ]
  },
  {
   "cell_type": "markdown",
   "id": "f1089562",
   "metadata": {},
   "source": [
    "Still we can see more number of zero values in the columns. So let us remove the columns which have more zero values and columns which are not necessary for this analysis. Some columns like **total_pymnt**, **total_rec_prncp**, **total_rec_late_fee** etc. are related to the current loan attributes which doesn't affect the defaulter tendency. So we can remove these columns safely."
   ]
  },
  {
   "cell_type": "code",
   "execution_count": 36,
   "id": "0f4d65fd",
   "metadata": {},
   "outputs": [],
   "source": [
    "#Certain loan attributes are not necessary for our analysis. So drop them.\n",
    "unnecessary_col =[\"application_type\",\"collection_recovery_fee\",\"initial_list_status\",\"last_pymnt_amnt\",\"last_pymnt_d\",\n",
    "                  \"last_credit_pull_d\",\"policy_code\",\"recoveries\",\"total_pymnt\",\"total_pymnt_inv\",\"total_rec_int\",\n",
    "                  \"total_rec_late_fee\",\"total_rec_prncp\",\"initial_list_status\",\"earliest_cr_line\"]\n",
    "df =df.drop(unnecessary_col,axis=1)"
   ]
  },
  {
   "cell_type": "code",
   "execution_count": 37,
   "id": "1eedc997",
   "metadata": {},
   "outputs": [
    {
     "data": {
      "text/plain": [
       "(38642, 33)"
      ]
     },
     "execution_count": 37,
     "metadata": {},
     "output_type": "execute_result"
    }
   ],
   "source": [
    "#Check the shape\n",
    "df.shape"
   ]
  },
  {
   "cell_type": "markdown",
   "id": "cccb977b",
   "metadata": {},
   "source": [
    "Now we have 33 columns for our analysis after removing unnecessary columns."
   ]
  },
  {
   "cell_type": "code",
   "execution_count": 38,
   "id": "032eeffb",
   "metadata": {},
   "outputs": [
    {
     "name": "stdout",
     "output_type": "stream",
     "text": [
      "<class 'pandas.core.frame.DataFrame'>\n",
      "Int64Index: 38642 entries, 0 to 39716\n",
      "Data columns (total 33 columns):\n",
      " #   Column                Non-Null Count  Dtype  \n",
      "---  ------                --------------  -----  \n",
      " 0   id                    38642 non-null  int64  \n",
      " 1   member_id             38642 non-null  int64  \n",
      " 2   loan_amnt             38642 non-null  int64  \n",
      " 3   funded_amnt           38642 non-null  int64  \n",
      " 4   funded_amnt_inv       38642 non-null  float64\n",
      " 5   term                  38642 non-null  object \n",
      " 6   int_rate              38642 non-null  object \n",
      " 7   installment           38642 non-null  float64\n",
      " 8   grade                 38642 non-null  object \n",
      " 9   sub_grade             38642 non-null  object \n",
      " 10  emp_title             38642 non-null  object \n",
      " 11  emp_length            38642 non-null  int64  \n",
      " 12  home_ownership        38642 non-null  object \n",
      " 13  annual_inc            38642 non-null  float64\n",
      " 14  verification_status   38642 non-null  object \n",
      " 15  issue_d               38642 non-null  object \n",
      " 16  loan_status           38642 non-null  object \n",
      " 17  pymnt_plan            38642 non-null  object \n",
      " 18  url                   38642 non-null  object \n",
      " 19  desc                  26147 non-null  object \n",
      " 20  purpose               38642 non-null  object \n",
      " 21  title                 38632 non-null  object \n",
      " 22  zip_code              38642 non-null  object \n",
      " 23  addr_state            38642 non-null  object \n",
      " 24  dti                   38642 non-null  float64\n",
      " 25  delinq_2yrs           38642 non-null  int64  \n",
      " 26  inq_last_6mths        38642 non-null  int64  \n",
      " 27  open_acc              38642 non-null  int64  \n",
      " 28  pub_rec               38642 non-null  int64  \n",
      " 29  revol_bal             38642 non-null  int64  \n",
      " 30  revol_util            38595 non-null  object \n",
      " 31  total_acc             38642 non-null  int64  \n",
      " 32  pub_rec_bankruptcies  37945 non-null  float64\n",
      "dtypes: float64(5), int64(11), object(17)\n",
      "memory usage: 10.0+ MB\n"
     ]
    }
   ],
   "source": [
    "#Check the data set info once again\n",
    "df.info()"
   ]
  },
  {
   "cell_type": "markdown",
   "id": "008687ce",
   "metadata": {},
   "source": [
    "### Filtering Column\n",
    "Let us filter the  columns not necessary for our analysis\n",
    "\n",
    "Certain employee attributes are not necessary for our analysis. For example, **url** contains the url of the customer lending loan case detail. Same way **title, desc, zip_code, pymnt_plan, id** and **member_id** is not necessary for us."
   ]
  },
  {
   "cell_type": "code",
   "execution_count": 39,
   "id": "60917691",
   "metadata": {},
   "outputs": [],
   "source": [
    "#Drop customer attributes not needed for our analysis\n",
    "cust_unnecessary_col =[\"url\",\"title\",\"desc\",\"zip_code\",\"pymnt_plan\",\"id\",\"member_id\"]\n",
    "df =df.drop(cust_unnecessary_col,axis=1)"
   ]
  },
  {
   "cell_type": "code",
   "execution_count": 40,
   "id": "6a907ad6",
   "metadata": {},
   "outputs": [
    {
     "data": {
      "text/plain": [
       "(38642, 26)"
      ]
     },
     "execution_count": 40,
     "metadata": {},
     "output_type": "execute_result"
    }
   ],
   "source": [
    "df.shape"
   ]
  },
  {
   "cell_type": "markdown",
   "id": "d4393416",
   "metadata": {},
   "source": [
    "Now we have 26 columns which is necessary for our analysis."
   ]
  },
  {
   "cell_type": "markdown",
   "id": "cd2adc96",
   "metadata": {},
   "source": [
    "### Handling incorrect Data types\n",
    "Next step of Data Cleaning is handling incorrect data types in the columns. So check for each column data type and validate."
   ]
  },
  {
   "cell_type": "code",
   "execution_count": 41,
   "id": "b48dfa88",
   "metadata": {},
   "outputs": [
    {
     "name": "stdout",
     "output_type": "stream",
     "text": [
      "<class 'pandas.core.frame.DataFrame'>\n",
      "Int64Index: 38642 entries, 0 to 39716\n",
      "Data columns (total 26 columns):\n",
      " #   Column                Non-Null Count  Dtype  \n",
      "---  ------                --------------  -----  \n",
      " 0   loan_amnt             38642 non-null  int64  \n",
      " 1   funded_amnt           38642 non-null  int64  \n",
      " 2   funded_amnt_inv       38642 non-null  float64\n",
      " 3   term                  38642 non-null  object \n",
      " 4   int_rate              38642 non-null  object \n",
      " 5   installment           38642 non-null  float64\n",
      " 6   grade                 38642 non-null  object \n",
      " 7   sub_grade             38642 non-null  object \n",
      " 8   emp_title             38642 non-null  object \n",
      " 9   emp_length            38642 non-null  int64  \n",
      " 10  home_ownership        38642 non-null  object \n",
      " 11  annual_inc            38642 non-null  float64\n",
      " 12  verification_status   38642 non-null  object \n",
      " 13  issue_d               38642 non-null  object \n",
      " 14  loan_status           38642 non-null  object \n",
      " 15  purpose               38642 non-null  object \n",
      " 16  addr_state            38642 non-null  object \n",
      " 17  dti                   38642 non-null  float64\n",
      " 18  delinq_2yrs           38642 non-null  int64  \n",
      " 19  inq_last_6mths        38642 non-null  int64  \n",
      " 20  open_acc              38642 non-null  int64  \n",
      " 21  pub_rec               38642 non-null  int64  \n",
      " 22  revol_bal             38642 non-null  int64  \n",
      " 23  revol_util            38595 non-null  object \n",
      " 24  total_acc             38642 non-null  int64  \n",
      " 25  pub_rec_bankruptcies  37945 non-null  float64\n",
      "dtypes: float64(5), int64(9), object(12)\n",
      "memory usage: 8.0+ MB\n"
     ]
    }
   ],
   "source": [
    "#Check the information of the data set\n",
    "df.info()"
   ]
  },
  {
   "cell_type": "code",
   "execution_count": 42,
   "id": "51547577",
   "metadata": {},
   "outputs": [
    {
     "data": {
      "text/plain": [
       "0     36 months\n",
       "1     60 months\n",
       "2     36 months\n",
       "3     36 months\n",
       "4     60 months\n",
       "Name: term, dtype: object"
      ]
     },
     "execution_count": 42,
     "metadata": {},
     "output_type": "execute_result"
    }
   ],
   "source": [
    "#Check the term column. Though it has numeric value, the term tells how many months one has to pay the loan. So it is \n",
    "#not necessary to covert this numeric value. Let us have it as categorical data itself.\n",
    "df['term'].head()"
   ]
  },
  {
   "cell_type": "code",
   "execution_count": 43,
   "id": "40e8137c",
   "metadata": {},
   "outputs": [
    {
     "data": {
      "text/plain": [
       "0    10.65%\n",
       "1    15.27%\n",
       "2    15.96%\n",
       "3    13.49%\n",
       "4    12.69%\n",
       "Name: int_rate, dtype: object"
      ]
     },
     "execution_count": 43,
     "metadata": {},
     "output_type": "execute_result"
    }
   ],
   "source": [
    "#Check the column int_rate. Here we can see that the value is different and has different interest rates. So we can\n",
    "#standardise this value and convert it to numeric.\n",
    "df['int_rate'].head()"
   ]
  },
  {
   "cell_type": "code",
   "execution_count": 44,
   "id": "5b2a6ca2",
   "metadata": {},
   "outputs": [
    {
     "data": {
      "text/plain": [
       "0                            Others\n",
       "1                             Ryder\n",
       "2                            Others\n",
       "3               AIR RESOURCES BOARD\n",
       "4          University Medical Group\n",
       "                    ...            \n",
       "39712               FiSite Research\n",
       "39713    Squarewave Solutions, Ltd.\n",
       "39714                        Others\n",
       "39715                        Others\n",
       "39716              Evergreen Center\n",
       "Name: emp_title, Length: 38642, dtype: object"
      ]
     },
     "execution_count": 44,
     "metadata": {},
     "output_type": "execute_result"
    }
   ],
   "source": [
    "#Check for the emp_title column. It's again a string data which has name of the company where employee works.\n",
    "df['emp_title']"
   ]
  },
  {
   "cell_type": "code",
   "execution_count": 45,
   "id": "23fd02ee",
   "metadata": {},
   "outputs": [
    {
     "data": {
      "text/plain": [
       "Fully Paid     32145\n",
       "Charged Off     5399\n",
       "Current         1098\n",
       "Name: loan_status, dtype: int64"
      ]
     },
     "execution_count": 45,
     "metadata": {},
     "output_type": "execute_result"
    }
   ],
   "source": [
    "#Check the column \"loan_status\". It has unordered categorical value. So let us retain the dtype as of now.\n",
    "df['loan_status'].value_counts()"
   ]
  },
  {
   "cell_type": "markdown",
   "id": "33489d99",
   "metadata": {},
   "source": [
    "#### Handling incorrect data types for the column revol_util from string to float"
   ]
  },
  {
   "cell_type": "code",
   "execution_count": 46,
   "id": "558cb58a",
   "metadata": {},
   "outputs": [
    {
     "data": {
      "text/plain": [
       "0    83.70%\n",
       "1     9.40%\n",
       "2    98.50%\n",
       "3       21%\n",
       "4    53.90%\n",
       "5    28.30%\n",
       "6    85.60%\n",
       "7    87.50%\n",
       "8    32.60%\n",
       "9    36.50%\n",
       "Name: revol_util, dtype: object"
      ]
     },
     "execution_count": 46,
     "metadata": {},
     "output_type": "execute_result"
    }
   ],
   "source": [
    "#Check the data for the column revol_util\n",
    "df.revol_util.head(10)"
   ]
  },
  {
   "cell_type": "code",
   "execution_count": 47,
   "id": "03d16d8c",
   "metadata": {},
   "outputs": [],
   "source": [
    "#Remove the '%' from the data set to make numeric.\n",
    "def rem_last_chr(x):\n",
    "    if type(x)=='float':\n",
    "      return x;\n",
    "    else:\n",
    "      return x.strip('%')\n",
    "df.revol_util = df.revol_util.str.replace('%','')"
   ]
  },
  {
   "cell_type": "code",
   "execution_count": 48,
   "id": "64123cac",
   "metadata": {},
   "outputs": [],
   "source": [
    "#Convert the datatype as float\n",
    "df.revol_util = df.revol_util.astype('float')"
   ]
  },
  {
   "cell_type": "code",
   "execution_count": 49,
   "id": "c4337eb1",
   "metadata": {},
   "outputs": [
    {
     "data": {
      "text/plain": [
       "dtype('float64')"
      ]
     },
     "execution_count": 49,
     "metadata": {},
     "output_type": "execute_result"
    }
   ],
   "source": [
    "#Check the data type\n",
    "df.revol_util.dtype"
   ]
  },
  {
   "cell_type": "code",
   "execution_count": 50,
   "id": "6c0499a5",
   "metadata": {},
   "outputs": [
    {
     "data": {
      "text/plain": [
       "0    83.7\n",
       "1     9.4\n",
       "2    98.5\n",
       "3    21.0\n",
       "4    53.9\n",
       "Name: revol_util, dtype: float64"
      ]
     },
     "execution_count": 50,
     "metadata": {},
     "output_type": "execute_result"
    }
   ],
   "source": [
    "#Check the data\n",
    "df.revol_util.head()"
   ]
  },
  {
   "cell_type": "markdown",
   "id": "f2532290",
   "metadata": {},
   "source": [
    "Convert the **int_rate** column from object to numeric"
   ]
  },
  {
   "cell_type": "code",
   "execution_count": 51,
   "id": "4e1b1d62",
   "metadata": {},
   "outputs": [
    {
     "data": {
      "text/plain": [
       "0    10.65%\n",
       "1    15.27%\n",
       "2    15.96%\n",
       "3    13.49%\n",
       "4    12.69%\n",
       "Name: int_rate, dtype: object"
      ]
     },
     "execution_count": 51,
     "metadata": {},
     "output_type": "execute_result"
    }
   ],
   "source": [
    "df.int_rate.head()"
   ]
  },
  {
   "cell_type": "code",
   "execution_count": 52,
   "id": "1ff9e8bb",
   "metadata": {},
   "outputs": [],
   "source": [
    "#Remove the '%' character and return as float\n",
    "df.int_rate = df.int_rate.map(lambda x: float(x.strip('%')))"
   ]
  },
  {
   "cell_type": "code",
   "execution_count": 53,
   "id": "fd809ef4",
   "metadata": {},
   "outputs": [],
   "source": [
    "#Convert the type as float\n",
    "df.int_rate = df.int_rate.astype('float')"
   ]
  },
  {
   "cell_type": "code",
   "execution_count": 54,
   "id": "99b62b0f",
   "metadata": {},
   "outputs": [
    {
     "data": {
      "text/plain": [
       "0    10.65\n",
       "1    15.27\n",
       "2    15.96\n",
       "3    13.49\n",
       "4    12.69\n",
       "Name: int_rate, dtype: float64"
      ]
     },
     "execution_count": 54,
     "metadata": {},
     "output_type": "execute_result"
    }
   ],
   "source": [
    "#Check the data in int_rate column\n",
    "df.int_rate.head()"
   ]
  },
  {
   "cell_type": "markdown",
   "id": "fe3fa4ab",
   "metadata": {},
   "source": [
    "### Sanity Checks\n",
    "The data that we have needs to make sense and therefore we can perform certain sanity checks on the data set. Some sanity checks can be:\n",
    "\n",
    "- Funded Amount should be less than loan amount"
   ]
  },
  {
   "cell_type": "code",
   "execution_count": 55,
   "id": "dd901970",
   "metadata": {},
   "outputs": [
    {
     "data": {
      "text/plain": [
       "(0, 26)"
      ]
     },
     "execution_count": 55,
     "metadata": {},
     "output_type": "execute_result"
    }
   ],
   "source": [
    "#Perform sanity check on the loan amount and the funded amount.\n",
    "df[df.funded_amnt>df.loan_amnt].shape"
   ]
  },
  {
   "cell_type": "code",
   "execution_count": 56,
   "id": "f4677c63",
   "metadata": {},
   "outputs": [
    {
     "data": {
      "text/plain": [
       "(0, 26)"
      ]
     },
     "execution_count": 56,
     "metadata": {},
     "output_type": "execute_result"
    }
   ],
   "source": [
    "df[df.funded_amnt_inv>df.loan_amnt].shape"
   ]
  },
  {
   "cell_type": "code",
   "execution_count": 57,
   "id": "7fec11e4",
   "metadata": {},
   "outputs": [
    {
     "data": {
      "text/plain": [
       "(0, 26)"
      ]
     },
     "execution_count": 57,
     "metadata": {},
     "output_type": "execute_result"
    }
   ],
   "source": [
    "df[df.funded_amnt_inv>df.funded_amnt_inv].shape"
   ]
  },
  {
   "cell_type": "markdown",
   "id": "62d317e9",
   "metadata": {},
   "source": [
    "## Univariate Data Analysis\n",
    "- Let us do univariate analysis over our data set:\n",
    "    - We need to take single column for our analysis. It could be ordered or unordered categorical variables and numeric variables.   "
   ]
  },
  {
   "cell_type": "markdown",
   "id": "de951413",
   "metadata": {},
   "source": [
    "Consider columns like **purpose, loan_status, emp_length, addr_state, term, emp_title, grade, sub-grade, verification_status, home_ownership etc.**"
   ]
  },
  {
   "cell_type": "code",
   "execution_count": 58,
   "id": "b2a6cfee",
   "metadata": {},
   "outputs": [],
   "source": [
    "##import the necessary libraries\n",
    "import warnings\n",
    "warnings.filterwarnings('ignore')"
   ]
  },
  {
   "cell_type": "code",
   "execution_count": 59,
   "id": "2e5e9fc8",
   "metadata": {},
   "outputs": [
    {
     "data": {
      "image/png": "[encoded data removed]",
      "text/plain": [
       "<Figure size 432x288 with 1 Axes>"
      ]
     },
     "metadata": {
      "needs_background": "light"
     },
     "output_type": "display_data"
    }
   ],
   "source": [
    "#Create a bar-chart for emp_length dependeing upon the number of value_counts\n",
    "%matplotlib inline\n",
    "df.emp_length.value_counts().plot.bar()\n",
    "plt.show()"
   ]
  },
  {
   "cell_type": "markdown",
   "id": "c7a8f991",
   "metadata": {},
   "source": [
    "Here in emp_length, we can see employees have experience ranging from 0-10 years."
   ]
  },
  {
   "cell_type": "code",
   "execution_count": 60,
   "id": "26006a97",
   "metadata": {},
   "outputs": [
    {
     "data": {
      "image/png": "[encoded data removed]",
      "text/plain": [
       "<Figure size 432x288 with 1 Axes>"
      ]
     },
     "metadata": {
      "needs_background": "light"
     },
     "output_type": "display_data"
    }
   ],
   "source": [
    "#Create a bar chart for purpose_value\n",
    "df.purpose.value_counts().plot.bar()\n",
    "plt.show()"
   ]
  },
  {
   "cell_type": "markdown",
   "id": "6c4df8ac",
   "metadata": {},
   "source": [
    "In purpose column, we can see that debt_consolidation is having maximum value followed by credit_card and other."
   ]
  },
  {
   "cell_type": "code",
   "execution_count": 61,
   "id": "c3cd3ae3",
   "metadata": {},
   "outputs": [
    {
     "data": {
      "image/png": "[encoded data removed]",
      "text/plain": [
       "<Figure size 432x288 with 1 Axes>"
      ]
     },
     "metadata": {
      "needs_background": "light"
     },
     "output_type": "display_data"
    }
   ],
   "source": [
    "#Create a histogram for int_rate\n",
    "plt.hist(df.int_rate)\n",
    "plt.show()"
   ]
  },
  {
   "cell_type": "markdown",
   "id": "6726b2ed",
   "metadata": {},
   "source": [
    "In above histogram, we can see that most of the loan are distributed in the range of 10.0 to 12.5 interest rate."
   ]
  },
  {
   "cell_type": "code",
   "execution_count": 62,
   "id": "07083e89",
   "metadata": {},
   "outputs": [
    {
     "data": {
      "image/png": "[encoded data removed]",
      "text/plain": [
       "<Figure size 432x288 with 1 Axes>"
      ]
     },
     "metadata": {
      "needs_background": "light"
     },
     "output_type": "display_data"
    }
   ],
   "source": [
    "#Create a bar chart for loan_status\n",
    "df.loan_status.value_counts().plot.bar()\n",
    "plt.show()"
   ]
  },
  {
   "cell_type": "markdown",
   "id": "d9e6644b",
   "metadata": {},
   "source": [
    "In above bar chart, we can see that most of the customers have fully paid the loan and 5000+ are defaulters. And we have customers who are still paying the loan. We could remove the rows with current value so we can do analysis for \"Fully Paid\" and \"Charged Off\"."
   ]
  },
  {
   "cell_type": "code",
   "execution_count": 63,
   "id": "86cbdb24",
   "metadata": {},
   "outputs": [],
   "source": [
    "#Remove the rows with value \"Current\" from the loan_status.\n",
    "df=df[~(df['loan_status']=='Current')]"
   ]
  },
  {
   "cell_type": "code",
   "execution_count": 64,
   "id": "75634df5",
   "metadata": {},
   "outputs": [
    {
     "data": {
      "text/plain": [
       "0     Fully Paid\n",
       "1    Charged Off\n",
       "2     Fully Paid\n",
       "3     Fully Paid\n",
       "5     Fully Paid\n",
       "Name: loan_status, dtype: object"
      ]
     },
     "execution_count": 64,
     "metadata": {},
     "output_type": "execute_result"
    }
   ],
   "source": [
    "df.loan_status.head()"
   ]
  },
  {
   "cell_type": "code",
   "execution_count": 65,
   "id": "1490a1b8",
   "metadata": {},
   "outputs": [],
   "source": [
    "df.loan_status = df.loan_status.apply(lambda x: int(0) if x=='Fully Paid' else int(1))"
   ]
  },
  {
   "cell_type": "code",
   "execution_count": 66,
   "id": "f722a92c",
   "metadata": {},
   "outputs": [
    {
     "data": {
      "text/plain": [
       "0    0\n",
       "1    1\n",
       "2    0\n",
       "3    0\n",
       "5    0\n",
       "Name: loan_status, dtype: int64"
      ]
     },
     "execution_count": 66,
     "metadata": {},
     "output_type": "execute_result"
    }
   ],
   "source": [
    "df.loan_status.head()"
   ]
  },
  {
   "cell_type": "code",
   "execution_count": 67,
   "id": "abf68776",
   "metadata": {},
   "outputs": [],
   "source": [
    "df.loan_status = df.loan_status.astype('int64')"
   ]
  },
  {
   "cell_type": "code",
   "execution_count": 68,
   "id": "b909a260",
   "metadata": {},
   "outputs": [
    {
     "data": {
      "text/plain": [
       "dtype('int64')"
      ]
     },
     "execution_count": 68,
     "metadata": {},
     "output_type": "execute_result"
    }
   ],
   "source": [
    "df.loan_status.dtype"
   ]
  },
  {
   "cell_type": "code",
   "execution_count": 69,
   "id": "b76e9f40",
   "metadata": {},
   "outputs": [
    {
     "data": {
      "text/plain": [
       "0    32145\n",
       "1     5399\n",
       "Name: loan_status, dtype: int64"
      ]
     },
     "execution_count": 69,
     "metadata": {},
     "output_type": "execute_result"
    }
   ],
   "source": [
    "#loan_status after removing the customer who are currently paying the loan.\n",
    "df.loan_status.value_counts()"
   ]
  },
  {
   "cell_type": "code",
   "execution_count": 70,
   "id": "738a34e3",
   "metadata": {},
   "outputs": [
    {
     "data": {
      "image/png": "[encoded data removed]",
      "text/plain": [
       "<Figure size 432x288 with 1 Axes>"
      ]
     },
     "metadata": {
      "needs_background": "light"
     },
     "output_type": "display_data"
    }
   ],
   "source": [
    "#Create a bar chart for loan_status\n",
    "df.loan_status.value_counts().plot.bar()\n",
    "plt.show()"
   ]
  },
  {
   "cell_type": "markdown",
   "id": "5e4966bf",
   "metadata": {},
   "source": [
    "Now we have only two values in loan_status. Defaulters are with value 1 in this case."
   ]
  },
  {
   "cell_type": "code",
   "execution_count": 71,
   "id": "78cd7b68",
   "metadata": {},
   "outputs": [
    {
     "data": {
      "text/html": [
       "<div>\n",
       "<style scoped>\n",
       "    .dataframe tbody tr th:only-of-type {\n",
       "        vertical-align: middle;\n",
       "    }\n",
       "\n",
       "    .dataframe tbody tr th {\n",
       "        vertical-align: top;\n",
       "    }\n",
       "\n",
       "    .dataframe thead th {\n",
       "        text-align: right;\n",
       "    }\n",
       "</style>\n",
       "<table border=\"1\" class=\"dataframe\">\n",
       "  <thead>\n",
       "    <tr style=\"text-align: right;\">\n",
       "      <th></th>\n",
       "      <th>loan_amnt</th>\n",
       "      <th>funded_amnt</th>\n",
       "      <th>funded_amnt_inv</th>\n",
       "      <th>term</th>\n",
       "      <th>int_rate</th>\n",
       "      <th>installment</th>\n",
       "      <th>grade</th>\n",
       "      <th>sub_grade</th>\n",
       "      <th>emp_title</th>\n",
       "      <th>emp_length</th>\n",
       "      <th>...</th>\n",
       "      <th>addr_state</th>\n",
       "      <th>dti</th>\n",
       "      <th>delinq_2yrs</th>\n",
       "      <th>inq_last_6mths</th>\n",
       "      <th>open_acc</th>\n",
       "      <th>pub_rec</th>\n",
       "      <th>revol_bal</th>\n",
       "      <th>revol_util</th>\n",
       "      <th>total_acc</th>\n",
       "      <th>pub_rec_bankruptcies</th>\n",
       "    </tr>\n",
       "  </thead>\n",
       "  <tbody>\n",
       "    <tr>\n",
       "      <th>1</th>\n",
       "      <td>2500</td>\n",
       "      <td>2500</td>\n",
       "      <td>2500.0</td>\n",
       "      <td>60 months</td>\n",
       "      <td>15.27</td>\n",
       "      <td>59.83</td>\n",
       "      <td>C</td>\n",
       "      <td>C4</td>\n",
       "      <td>Ryder</td>\n",
       "      <td>0</td>\n",
       "      <td>...</td>\n",
       "      <td>GA</td>\n",
       "      <td>1.00</td>\n",
       "      <td>0</td>\n",
       "      <td>5</td>\n",
       "      <td>3</td>\n",
       "      <td>0</td>\n",
       "      <td>1687</td>\n",
       "      <td>9.4</td>\n",
       "      <td>4</td>\n",
       "      <td>0.0</td>\n",
       "    </tr>\n",
       "    <tr>\n",
       "      <th>8</th>\n",
       "      <td>5600</td>\n",
       "      <td>5600</td>\n",
       "      <td>5600.0</td>\n",
       "      <td>60 months</td>\n",
       "      <td>21.28</td>\n",
       "      <td>152.39</td>\n",
       "      <td>F</td>\n",
       "      <td>F2</td>\n",
       "      <td>Others</td>\n",
       "      <td>4</td>\n",
       "      <td>...</td>\n",
       "      <td>CA</td>\n",
       "      <td>5.55</td>\n",
       "      <td>0</td>\n",
       "      <td>2</td>\n",
       "      <td>11</td>\n",
       "      <td>0</td>\n",
       "      <td>5210</td>\n",
       "      <td>32.6</td>\n",
       "      <td>13</td>\n",
       "      <td>0.0</td>\n",
       "    </tr>\n",
       "    <tr>\n",
       "      <th>9</th>\n",
       "      <td>5375</td>\n",
       "      <td>5375</td>\n",
       "      <td>5350.0</td>\n",
       "      <td>60 months</td>\n",
       "      <td>12.69</td>\n",
       "      <td>121.45</td>\n",
       "      <td>B</td>\n",
       "      <td>B5</td>\n",
       "      <td>Starbucks</td>\n",
       "      <td>0</td>\n",
       "      <td>...</td>\n",
       "      <td>TX</td>\n",
       "      <td>18.08</td>\n",
       "      <td>0</td>\n",
       "      <td>0</td>\n",
       "      <td>2</td>\n",
       "      <td>0</td>\n",
       "      <td>9279</td>\n",
       "      <td>36.5</td>\n",
       "      <td>3</td>\n",
       "      <td>0.0</td>\n",
       "    </tr>\n",
       "    <tr>\n",
       "      <th>12</th>\n",
       "      <td>9000</td>\n",
       "      <td>9000</td>\n",
       "      <td>9000.0</td>\n",
       "      <td>36 months</td>\n",
       "      <td>13.49</td>\n",
       "      <td>305.38</td>\n",
       "      <td>C</td>\n",
       "      <td>C1</td>\n",
       "      <td>Va. Dept of Conservation/Recreation</td>\n",
       "      <td>0</td>\n",
       "      <td>...</td>\n",
       "      <td>VA</td>\n",
       "      <td>10.08</td>\n",
       "      <td>0</td>\n",
       "      <td>1</td>\n",
       "      <td>4</td>\n",
       "      <td>0</td>\n",
       "      <td>10452</td>\n",
       "      <td>91.7</td>\n",
       "      <td>9</td>\n",
       "      <td>0.0</td>\n",
       "    </tr>\n",
       "    <tr>\n",
       "      <th>14</th>\n",
       "      <td>10000</td>\n",
       "      <td>10000</td>\n",
       "      <td>10000.0</td>\n",
       "      <td>36 months</td>\n",
       "      <td>10.65</td>\n",
       "      <td>325.74</td>\n",
       "      <td>B</td>\n",
       "      <td>B2</td>\n",
       "      <td>SFMTA</td>\n",
       "      <td>3</td>\n",
       "      <td>...</td>\n",
       "      <td>CA</td>\n",
       "      <td>7.06</td>\n",
       "      <td>0</td>\n",
       "      <td>2</td>\n",
       "      <td>14</td>\n",
       "      <td>0</td>\n",
       "      <td>11997</td>\n",
       "      <td>55.5</td>\n",
       "      <td>29</td>\n",
       "      <td>0.0</td>\n",
       "    </tr>\n",
       "  </tbody>\n",
       "</table>\n",
       "<p>5 rows × 26 columns</p>\n",
       "</div>"
      ],
      "text/plain": [
       "    loan_amnt  funded_amnt  funded_amnt_inv        term  int_rate  \\\n",
       "1        2500         2500           2500.0   60 months     15.27   \n",
       "8        5600         5600           5600.0   60 months     21.28   \n",
       "9        5375         5375           5350.0   60 months     12.69   \n",
       "12       9000         9000           9000.0   36 months     13.49   \n",
       "14      10000        10000          10000.0   36 months     10.65   \n",
       "\n",
       "    installment grade sub_grade                            emp_title  \\\n",
       "1         59.83     C        C4                                Ryder   \n",
       "8        152.39     F        F2                               Others   \n",
       "9        121.45     B        B5                            Starbucks   \n",
       "12       305.38     C        C1  Va. Dept of Conservation/Recreation   \n",
       "14       325.74     B        B2                                SFMTA   \n",
       "\n",
       "    emp_length  ... addr_state    dti delinq_2yrs inq_last_6mths  open_acc  \\\n",
       "1            0  ...         GA   1.00           0              5         3   \n",
       "8            4  ...         CA   5.55           0              2        11   \n",
       "9            0  ...         TX  18.08           0              0         2   \n",
       "12           0  ...         VA  10.08           0              1         4   \n",
       "14           3  ...         CA   7.06           0              2        14   \n",
       "\n",
       "   pub_rec revol_bal  revol_util  total_acc  pub_rec_bankruptcies  \n",
       "1        0      1687         9.4          4                   0.0  \n",
       "8        0      5210        32.6         13                   0.0  \n",
       "9        0      9279        36.5          3                   0.0  \n",
       "12       0     10452        91.7          9                   0.0  \n",
       "14       0     11997        55.5         29                   0.0  \n",
       "\n",
       "[5 rows x 26 columns]"
      ]
     },
     "execution_count": 71,
     "metadata": {},
     "output_type": "execute_result"
    }
   ],
   "source": [
    "#Extract the data who are only defaulters to analyze further in df_choff\n",
    "df_choff=df[(df['loan_status']== 1)]\n",
    "df_choff.head()"
   ]
  },
  {
   "cell_type": "code",
   "execution_count": 72,
   "id": "e1839b1d",
   "metadata": {},
   "outputs": [
    {
     "data": {
      "text/plain": [
       "CA    1074\n",
       "FL     482\n",
       "NY     476\n",
       "TX     309\n",
       "NJ     276\n",
       "GA     209\n",
       "IL     194\n",
       "VA     173\n",
       "PA     170\n",
       "MD     158\n",
       "MA     150\n",
       "OH     146\n",
       "WA     118\n",
       "AZ     114\n",
       "NC     110\n",
       "MO     106\n",
       "NV     101\n",
       "MI      97\n",
       "CO      91\n",
       "CT      89\n",
       "MN      79\n",
       "OR      69\n",
       "SC      64\n",
       "WI      59\n",
       "LA      52\n",
       "AL      51\n",
       "KY      45\n",
       "OK      40\n",
       "UT      39\n",
       "NM      29\n",
       "HI      28\n",
       "KS      26\n",
       "AR      26\n",
       "RI      25\n",
       "NH      23\n",
       "WV      21\n",
       "DC      15\n",
       "AK      15\n",
       "DE      12\n",
       "SD      11\n",
       "MT      10\n",
       "VT       6\n",
       "WY       3\n",
       "NE       3\n",
       "MS       2\n",
       "TN       2\n",
       "ID       1\n",
       "Name: addr_state, dtype: int64"
      ]
     },
     "execution_count": 72,
     "metadata": {},
     "output_type": "execute_result"
    }
   ],
   "source": [
    "#Check addr_state column data value.\n",
    "df_choff.addr_state.value_counts()"
   ]
  },
  {
   "cell_type": "markdown",
   "id": "3aae54ae",
   "metadata": {},
   "source": [
    "In the below pie chart we can see that customers from the states **CA, FL, NY, TX and NJ** are major defaulters."
   ]
  },
  {
   "cell_type": "code",
   "execution_count": 73,
   "id": "090d2cbc",
   "metadata": {},
   "outputs": [
    {
     "data": {
      "image/png": "[encoded data removed]",
      "text/plain": [
       "<Figure size 432x288 with 1 Axes>"
      ]
     },
     "metadata": {},
     "output_type": "display_data"
    }
   ],
   "source": [
    "df_choff['addr_state'].value_counts().plot.pie()\n",
    "plt.show()"
   ]
  },
  {
   "cell_type": "markdown",
   "id": "0a26aecb",
   "metadata": {},
   "source": [
    "Let us consider the verification_status field and see what information does it give."
   ]
  },
  {
   "cell_type": "code",
   "execution_count": 74,
   "id": "82d78e23",
   "metadata": {},
   "outputs": [
    {
     "data": {
      "image/png": "[encoded data removed]",
      "text/plain": [
       "<Figure size 432x288 with 1 Axes>"
      ]
     },
     "metadata": {
      "needs_background": "light"
     },
     "output_type": "display_data"
    }
   ],
   "source": [
    "#Plot a bar chart for verification_status\n",
    "df_choff['verification_status'].value_counts().plot.bar()\n",
    "plt.show()"
   ]
  },
  {
   "cell_type": "markdown",
   "id": "67bcb558",
   "metadata": {},
   "source": [
    "From the bar chart we see equal amount of defaulters are in both cases \"Not Verified\" and \"Verified\". So this factor doesnt tend for the defaulter."
   ]
  },
  {
   "cell_type": "markdown",
   "id": "c3ebd9e6",
   "metadata": {},
   "source": [
    "Let us analyze whether interest rate results in defaulters."
   ]
  },
  {
   "cell_type": "code",
   "execution_count": 75,
   "id": "a89939e1",
   "metadata": {},
   "outputs": [
    {
     "data": {
      "image/png": "[encoded data removed]",
      "text/plain": [
       "<Figure size 432x288 with 1 Axes>"
      ]
     },
     "metadata": {
      "needs_background": "light"
     },
     "output_type": "display_data"
    }
   ],
   "source": [
    "#Create a distribution plot for defaulters with int_rate\n",
    "sns.distplot(df_choff.int_rate,color='g')\n",
    "plt.title('Distribution of Interest Rate',fontsize=12)\n",
    "plt.show()"
   ]
  },
  {
   "cell_type": "code",
   "execution_count": 76,
   "id": "61512e9d",
   "metadata": {},
   "outputs": [
    {
     "data": {
      "image/png": "[encoded data removed]",
      "text/plain": [
       "<Figure size 432x288 with 1 Axes>"
      ]
     },
     "metadata": {
      "needs_background": "light"
     },
     "output_type": "display_data"
    }
   ],
   "source": [
    "#Create a distribution plot for defaulters with bins=20\n",
    "sns.distplot(df_choff.int_rate,bins=20,color='g')\n",
    "plt.title('Distribution of Interest Rate',fontsize=12)\n",
    "plt.show()"
   ]
  },
  {
   "cell_type": "markdown",
   "id": "65dee449",
   "metadata": {},
   "source": [
    "With distribution plot, we see that with interest rate between 10-17%, the customers tend to be defaulters."
   ]
  },
  {
   "cell_type": "code",
   "execution_count": 77,
   "id": "6480ed45",
   "metadata": {},
   "outputs": [
    {
     "data": {
      "image/png": "[encoded data removed]",
      "text/plain": [
       "<Figure size 432x288 with 1 Axes>"
      ]
     },
     "metadata": {
      "needs_background": "light"
     },
     "output_type": "display_data"
    }
   ],
   "source": [
    "#Create a bar chart for home_ownership\n",
    "df_choff.home_ownership.value_counts().plot.bar()\n",
    "plt.show()"
   ]
  },
  {
   "cell_type": "markdown",
   "id": "84f4924c",
   "metadata": {},
   "source": [
    "- Customers who are paying rent or who have mortage loan, tend to be defaulters."
   ]
  },
  {
   "cell_type": "code",
   "execution_count": 78,
   "id": "3de92aa2",
   "metadata": {},
   "outputs": [
    {
     "data": {
      "image/png": "[encoded data removed]",
      "text/plain": [
       "<Figure size 432x288 with 1 Axes>"
      ]
     },
     "metadata": {
      "needs_background": "light"
     },
     "output_type": "display_data"
    }
   ],
   "source": [
    "#Create a bar plot for field delinq_2yrs\n",
    "df_choff.delinq_2yrs.value_counts().plot.bar()\n",
    "plt.show()"
   ]
  },
  {
   "cell_type": "markdown",
   "id": "4fec52ed",
   "metadata": {},
   "source": [
    "So the field **\"delinq_2yrs\"** doesn't affect the defaulter factor. We could see that even the customer with 0 delinquency have also become defaulters. And frequency of customer with high delinquent is very less."
   ]
  },
  {
   "cell_type": "code",
   "execution_count": 79,
   "id": "09c350f1",
   "metadata": {},
   "outputs": [
    {
     "data": {
      "image/png": "[encoded data removed]",
      "text/plain": [
       "<Figure size 432x288 with 1 Axes>"
      ]
     },
     "metadata": {
      "needs_background": "light"
     },
     "output_type": "display_data"
    }
   ],
   "source": [
    "#Create a bar plot for field delinq_2yrs\n",
    "df_choff.inq_last_6mths.value_counts().plot.bar()\n",
    "plt.show()"
   ]
  },
  {
   "cell_type": "markdown",
   "id": "d2dbb312",
   "metadata": {},
   "source": [
    "So the field **\"inq_last_6mths\"** doesn't affect the defaulter factor. We could see that even the customer with 0 inquiries have become defaulters. And frequency of customer with high inquiries is less."
   ]
  },
  {
   "cell_type": "code",
   "execution_count": 80,
   "id": "80889e37",
   "metadata": {},
   "outputs": [
    {
     "data": {
      "image/png": "[encoded data removed]",
      "text/plain": [
       "<Figure size 432x288 with 1 Axes>"
      ]
     },
     "metadata": {
      "needs_background": "light"
     },
     "output_type": "display_data"
    }
   ],
   "source": [
    "#Create a bar plot for field pub_rec_bankruptcies\n",
    "df_choff.pub_rec_bankruptcies.value_counts().plot.bar()\n",
    "plt.show()"
   ]
  },
  {
   "cell_type": "markdown",
   "id": "af97e147",
   "metadata": {},
   "source": [
    "So the field **\"pub_rec_bankruptcies\"** doesn't affect the defaulter factor. We could see that even the customer with 0 bankruptcies have become defaulters. And frequency of customer with high bankruptcies is less."
   ]
  },
  {
   "cell_type": "code",
   "execution_count": 81,
   "id": "ff9d545f",
   "metadata": {},
   "outputs": [
    {
     "data": {
      "image/png": "[encoded data removed]",
      "text/plain": [
       "<Figure size 432x288 with 1 Axes>"
      ]
     },
     "metadata": {
      "needs_background": "light"
     },
     "output_type": "display_data"
    }
   ],
   "source": [
    "#Create a bar plot for field pub_rec\n",
    "df_choff.pub_rec.value_counts().plot.bar()\n",
    "plt.show()"
   ]
  },
  {
   "cell_type": "markdown",
   "id": "ab0b8f1a",
   "metadata": {},
   "source": [
    "Here the field **\"pub_rec\"** doesn't affect the defaulter factor. We could see that even the customer with 0 number of deroaatory records have become defaulters."
   ]
  },
  {
   "cell_type": "code",
   "execution_count": 82,
   "id": "a6832ef5",
   "metadata": {},
   "outputs": [
    {
     "data": {
      "image/png": "[encoded data removed]",
      "text/plain": [
       "<Figure size 432x288 with 1 Axes>"
      ]
     },
     "metadata": {
      "needs_background": "light"
     },
     "output_type": "display_data"
    }
   ],
   "source": [
    "#Create a distribution plot for defaulters with annual_inc\n",
    "sns.distplot(df_choff.annual_inc,color='r')\n",
    "plt.title('Distribution of Annual Income',fontsize=12)\n",
    "plt.show()"
   ]
  },
  {
   "cell_type": "code",
   "execution_count": 83,
   "id": "3bf1553d",
   "metadata": {},
   "outputs": [
    {
     "data": {
      "text/plain": [
       "60000.0    253\n",
       "50000.0    158\n",
       "40000.0    149\n",
       "30000.0    134\n",
       "36000.0    123\n",
       "          ... \n",
       "49992.0      1\n",
       "57068.0      1\n",
       "59712.0      1\n",
       "24398.0      1\n",
       "33990.0      1\n",
       "Name: annual_inc, Length: 1188, dtype: int64"
      ]
     },
     "execution_count": 83,
     "metadata": {},
     "output_type": "execute_result"
    }
   ],
   "source": [
    "df_choff.annual_inc.value_counts()"
   ]
  },
  {
   "cell_type": "markdown",
   "id": "af21ee6f",
   "metadata": {},
   "source": [
    "Let us construct a boxplot for field \"annual_inc\" and check out does it impact our data set."
   ]
  },
  {
   "cell_type": "code",
   "execution_count": 84,
   "id": "e31ee996",
   "metadata": {},
   "outputs": [
    {
     "data": {
      "image/png": "[encoded data removed]",
      "text/plain": [
       "<Figure size 432x288 with 1 Axes>"
      ]
     },
     "metadata": {
      "needs_background": "light"
     },
     "output_type": "display_data"
    }
   ],
   "source": [
    "#Create a boxplot for annual income\n",
    "plt.boxplot(df_choff.annual_inc)\n",
    "plt.show()"
   ]
  },
  {
   "cell_type": "markdown",
   "id": "49578792",
   "metadata": {},
   "source": [
    "We could see many outliers in this chart. So let us remove outliers using quantile and see how it looks like."
   ]
  },
  {
   "cell_type": "code",
   "execution_count": 85,
   "id": "449f8a4d",
   "metadata": {},
   "outputs": [],
   "source": [
    "#Use 95% quantile to remove the outliers\n",
    "quan=np.quantile(df_choff.annual_inc,0.95)\n",
    "df1=df_choff[~(df_choff['annual_inc']>142000)]"
   ]
  },
  {
   "cell_type": "code",
   "execution_count": 86,
   "id": "de262470",
   "metadata": {},
   "outputs": [
    {
     "data": {
      "text/plain": [
       "(5196, 26)"
      ]
     },
     "execution_count": 86,
     "metadata": {},
     "output_type": "execute_result"
    }
   ],
   "source": [
    "df1.shape"
   ]
  },
  {
   "cell_type": "code",
   "execution_count": 87,
   "id": "930ca730",
   "metadata": {},
   "outputs": [
    {
     "data": {
      "image/png": "[encoded data removed]",
      "text/plain": [
       "<Figure size 432x288 with 1 Axes>"
      ]
     },
     "metadata": {
      "needs_background": "light"
     },
     "output_type": "display_data"
    }
   ],
   "source": [
    "#Create a boxplot for annual income after removing outlier\n",
    "plt.boxplot(df1.annual_inc)\n",
    "plt.show()"
   ]
  },
  {
   "cell_type": "markdown",
   "id": "fca8bd31",
   "metadata": {},
   "source": [
    "Now the above boxplot looks better and we could see the majority of defaulters fall in the range of 40,000-70,000."
   ]
  },
  {
   "cell_type": "code",
   "execution_count": 88,
   "id": "974c09c2",
   "metadata": {},
   "outputs": [
    {
     "data": {
      "image/png": "[encoded data removed]",
      "text/plain": [
       "<Figure size 432x288 with 1 Axes>"
      ]
     },
     "metadata": {
      "needs_background": "light"
     },
     "output_type": "display_data"
    }
   ],
   "source": [
    "#Plot a histogram for annual income as well.\n",
    "plt.hist(df1.annual_inc)\n",
    "plt.show()"
   ]
  },
  {
   "cell_type": "markdown",
   "id": "b928c2c3",
   "metadata": {},
   "source": [
    "Here in this histogram it is more clearer that annual income people in the range 40,000-70,000 are defaulters."
   ]
  },
  {
   "cell_type": "code",
   "execution_count": 89,
   "id": "54d08740",
   "metadata": {},
   "outputs": [
    {
     "data": {
      "image/png": "[encoded data removed]",
      "text/plain": [
       "<Figure size 432x288 with 1 Axes>"
      ]
     },
     "metadata": {
      "needs_background": "light"
     },
     "output_type": "display_data"
    }
   ],
   "source": [
    "#Create a bar plot for field grade\n",
    "df_choff.grade.value_counts().plot.bar()\n",
    "plt.show()"
   ]
  },
  {
   "cell_type": "markdown",
   "id": "0d6dfe7a",
   "metadata": {},
   "source": [
    "We can see that customers who are in grade B and C are defaulters."
   ]
  },
  {
   "cell_type": "code",
   "execution_count": 90,
   "id": "8310adca",
   "metadata": {
    "scrolled": true
   },
   "outputs": [
    {
     "data": {
      "image/png": "[encoded data removed]",
      "text/plain": [
       "<Figure size 432x288 with 1 Axes>"
      ]
     },
     "metadata": {
      "needs_background": "light"
     },
     "output_type": "display_data"
    }
   ],
   "source": [
    "#Create a bar plot for field term\n",
    "df_choff.term.value_counts().plot.bar()\n",
    "plt.show()"
   ]
  },
  {
   "cell_type": "markdown",
   "id": "3d740140",
   "metadata": {},
   "source": [
    "Customer who go for lesser term tend to be defaulters."
   ]
  },
  {
   "cell_type": "code",
   "execution_count": 91,
   "id": "fa255c52",
   "metadata": {},
   "outputs": [
    {
     "data": {
      "image/png": "[encoded data removed]",
      "text/plain": [
       "<Figure size 432x288 with 1 Axes>"
      ]
     },
     "metadata": {
      "needs_background": "light"
     },
     "output_type": "display_data"
    }
   ],
   "source": [
    "#Create a bar plot for field sub-grade\n",
    "df_choff.sub_grade.value_counts().plot.bar()\n",
    "plt.show()"
   ]
  },
  {
   "cell_type": "markdown",
   "id": "0f7fd3a7",
   "metadata": {},
   "source": [
    "With the above bar chart we can see the customers with subgrade between B-D are mostly defaulters."
   ]
  },
  {
   "cell_type": "code",
   "execution_count": 92,
   "id": "e86a3f60",
   "metadata": {},
   "outputs": [
    {
     "data": {
      "image/png": "[encoded data removed]",
      "text/plain": [
       "<Figure size 432x288 with 1 Axes>"
      ]
     },
     "metadata": {
      "needs_background": "light"
     },
     "output_type": "display_data"
    }
   ],
   "source": [
    "#Create a distribution plot for defaulters with loan amount\n",
    "sns.distplot(df_choff.loan_amnt,color='y')\n",
    "plt.title('Distribution of Loan Amount',fontsize=12)\n",
    "plt.show()"
   ]
  },
  {
   "cell_type": "markdown",
   "id": "47caebc6",
   "metadata": {},
   "source": [
    "Using loan amount field, we could see that defaulters are more when the loan amount range is in between 5000 to 10,000."
   ]
  },
  {
   "cell_type": "code",
   "execution_count": 93,
   "id": "98557ebb",
   "metadata": {},
   "outputs": [
    {
     "data": {
      "image/png": "[encoded data removed]",
      "text/plain": [
       "<Figure size 432x288 with 1 Axes>"
      ]
     },
     "metadata": {
      "needs_background": "light"
     },
     "output_type": "display_data"
    }
   ],
   "source": [
    "#Create a distribution plot for field dti\n",
    "sns.distplot(df_choff.dti,color='g')\n",
    "plt.title('Distribution of dti',fontsize=12)\n",
    "plt.show()"
   ]
  },
  {
   "cell_type": "markdown",
   "id": "a5064e8e",
   "metadata": {},
   "source": [
    "Using dti field we could see that defaulters are more in the range of ratio 10-22.5"
   ]
  },
  {
   "cell_type": "code",
   "execution_count": 94,
   "id": "e455b662",
   "metadata": {},
   "outputs": [
    {
     "data": {
      "text/plain": [
       "Others                       268\n",
       "Bank of America               20\n",
       "US Army                       18\n",
       "Walmart                       14\n",
       "UPS                           12\n",
       "                            ... \n",
       "Greek America Foundation       1\n",
       "U of D Jesuit High School      1\n",
       "EEOC                           1\n",
       "Life Ambulance                 1\n",
       "Auto motors of miami           1\n",
       "Name: emp_title, Length: 4625, dtype: int64"
      ]
     },
     "execution_count": 94,
     "metadata": {},
     "output_type": "execute_result"
    }
   ],
   "source": [
    "#Check the emp_title for defaulters\n",
    "df_choff.emp_title.value_counts()"
   ]
  },
  {
   "cell_type": "markdown",
   "id": "198ea2e7",
   "metadata": {},
   "source": [
    "We see that employees from Bank of America, US Army, Walmart, UPS are in the defaulter list. So we need to consider while giving loans to these customers."
   ]
  },
  {
   "cell_type": "code",
   "execution_count": 95,
   "id": "4ed7118d",
   "metadata": {},
   "outputs": [
    {
     "data": {
      "image/png": "[encoded data removed]",
      "text/plain": [
       "<Figure size 432x288 with 1 Axes>"
      ]
     },
     "metadata": {
      "needs_background": "light"
     },
     "output_type": "display_data"
    }
   ],
   "source": [
    "#Create a distribution plot for field open_acc\n",
    "sns.distplot(df_choff.open_acc,color='r')\n",
    "plt.title('Distribution of open credit lines',fontsize=12)\n",
    "plt.show()"
   ]
  },
  {
   "cell_type": "markdown",
   "id": "7d1306c8",
   "metadata": {},
   "source": [
    "With the field open_acc, we see that customers with open credit lines between 5-12 are maximum defaulters."
   ]
  },
  {
   "cell_type": "code",
   "execution_count": 96,
   "id": "f1ba088b",
   "metadata": {},
   "outputs": [
    {
     "data": {
      "text/html": [
       "<div>\n",
       "<style scoped>\n",
       "    .dataframe tbody tr th:only-of-type {\n",
       "        vertical-align: middle;\n",
       "    }\n",
       "\n",
       "    .dataframe tbody tr th {\n",
       "        vertical-align: top;\n",
       "    }\n",
       "\n",
       "    .dataframe thead th {\n",
       "        text-align: right;\n",
       "    }\n",
       "</style>\n",
       "<table border=\"1\" class=\"dataframe\">\n",
       "  <thead>\n",
       "    <tr style=\"text-align: right;\">\n",
       "      <th></th>\n",
       "      <th>loan_amnt</th>\n",
       "      <th>funded_amnt</th>\n",
       "      <th>funded_amnt_inv</th>\n",
       "      <th>int_rate</th>\n",
       "      <th>installment</th>\n",
       "      <th>emp_length</th>\n",
       "      <th>annual_inc</th>\n",
       "      <th>loan_status</th>\n",
       "      <th>dti</th>\n",
       "      <th>delinq_2yrs</th>\n",
       "      <th>inq_last_6mths</th>\n",
       "      <th>open_acc</th>\n",
       "      <th>pub_rec</th>\n",
       "      <th>revol_bal</th>\n",
       "      <th>revol_util</th>\n",
       "      <th>total_acc</th>\n",
       "      <th>pub_rec_bankruptcies</th>\n",
       "    </tr>\n",
       "  </thead>\n",
       "  <tbody>\n",
       "    <tr>\n",
       "      <th>loan_amnt</th>\n",
       "      <td>1.000000</td>\n",
       "      <td>0.981603</td>\n",
       "      <td>0.936871</td>\n",
       "      <td>0.299237</td>\n",
       "      <td>0.931686</td>\n",
       "      <td>0.148895</td>\n",
       "      <td>0.266282</td>\n",
       "      <td>0.062680</td>\n",
       "      <td>0.061402</td>\n",
       "      <td>-0.033757</td>\n",
       "      <td>0.013068</td>\n",
       "      <td>0.174008</td>\n",
       "      <td>-0.046378</td>\n",
       "      <td>0.313399</td>\n",
       "      <td>0.062201</td>\n",
       "      <td>0.255538</td>\n",
       "      <td>-0.031758</td>\n",
       "    </tr>\n",
       "    <tr>\n",
       "      <th>funded_amnt</th>\n",
       "      <td>0.981603</td>\n",
       "      <td>1.000000</td>\n",
       "      <td>0.955300</td>\n",
       "      <td>0.302955</td>\n",
       "      <td>0.957721</td>\n",
       "      <td>0.148661</td>\n",
       "      <td>0.261959</td>\n",
       "      <td>0.059535</td>\n",
       "      <td>0.061251</td>\n",
       "      <td>-0.033857</td>\n",
       "      <td>0.013111</td>\n",
       "      <td>0.172546</td>\n",
       "      <td>-0.046898</td>\n",
       "      <td>0.306119</td>\n",
       "      <td>0.066283</td>\n",
       "      <td>0.249803</td>\n",
       "      <td>-0.032708</td>\n",
       "    </tr>\n",
       "    <tr>\n",
       "      <th>funded_amnt_inv</th>\n",
       "      <td>0.936871</td>\n",
       "      <td>0.955300</td>\n",
       "      <td>1.000000</td>\n",
       "      <td>0.295697</td>\n",
       "      <td>0.904110</td>\n",
       "      <td>0.159903</td>\n",
       "      <td>0.249320</td>\n",
       "      <td>0.040097</td>\n",
       "      <td>0.070007</td>\n",
       "      <td>-0.040029</td>\n",
       "      <td>-0.002744</td>\n",
       "      <td>0.159554</td>\n",
       "      <td>-0.048416</td>\n",
       "      <td>0.285718</td>\n",
       "      <td>0.071583</td>\n",
       "      <td>0.241953</td>\n",
       "      <td>-0.037598</td>\n",
       "    </tr>\n",
       "    <tr>\n",
       "      <th>int_rate</th>\n",
       "      <td>0.299237</td>\n",
       "      <td>0.302955</td>\n",
       "      <td>0.295697</td>\n",
       "      <td>1.000000</td>\n",
       "      <td>0.274791</td>\n",
       "      <td>0.000390</td>\n",
       "      <td>0.046092</td>\n",
       "      <td>0.213497</td>\n",
       "      <td>0.112188</td>\n",
       "      <td>0.158199</td>\n",
       "      <td>0.132576</td>\n",
       "      <td>0.007594</td>\n",
       "      <td>0.098996</td>\n",
       "      <td>0.095136</td>\n",
       "      <td>0.466023</td>\n",
       "      <td>-0.045310</td>\n",
       "      <td>0.082988</td>\n",
       "    </tr>\n",
       "    <tr>\n",
       "      <th>installment</th>\n",
       "      <td>0.931686</td>\n",
       "      <td>0.957721</td>\n",
       "      <td>0.904110</td>\n",
       "      <td>0.274791</td>\n",
       "      <td>1.000000</td>\n",
       "      <td>0.121996</td>\n",
       "      <td>0.264684</td>\n",
       "      <td>0.029868</td>\n",
       "      <td>0.050727</td>\n",
       "      <td>-0.021675</td>\n",
       "      <td>0.011296</td>\n",
       "      <td>0.169816</td>\n",
       "      <td>-0.042153</td>\n",
       "      <td>0.309157</td>\n",
       "      <td>0.091810</td>\n",
       "      <td>0.229250</td>\n",
       "      <td>-0.029352</td>\n",
       "    </tr>\n",
       "    <tr>\n",
       "      <th>emp_length</th>\n",
       "      <td>0.148895</td>\n",
       "      <td>0.148661</td>\n",
       "      <td>0.159903</td>\n",
       "      <td>0.000390</td>\n",
       "      <td>0.121996</td>\n",
       "      <td>1.000000</td>\n",
       "      <td>0.110831</td>\n",
       "      <td>0.016126</td>\n",
       "      <td>0.050268</td>\n",
       "      <td>0.015690</td>\n",
       "      <td>0.009475</td>\n",
       "      <td>0.096710</td>\n",
       "      <td>0.064025</td>\n",
       "      <td>0.150441</td>\n",
       "      <td>0.009931</td>\n",
       "      <td>0.207738</td>\n",
       "      <td>0.062669</td>\n",
       "    </tr>\n",
       "    <tr>\n",
       "      <th>annual_inc</th>\n",
       "      <td>0.266282</td>\n",
       "      <td>0.261959</td>\n",
       "      <td>0.249320</td>\n",
       "      <td>0.046092</td>\n",
       "      <td>0.264684</td>\n",
       "      <td>0.110831</td>\n",
       "      <td>1.000000</td>\n",
       "      <td>-0.038501</td>\n",
       "      <td>-0.123582</td>\n",
       "      <td>0.021229</td>\n",
       "      <td>0.035976</td>\n",
       "      <td>0.154494</td>\n",
       "      <td>-0.014369</td>\n",
       "      <td>0.276693</td>\n",
       "      <td>0.014676</td>\n",
       "      <td>0.233436</td>\n",
       "      <td>-0.012378</td>\n",
       "    </tr>\n",
       "    <tr>\n",
       "      <th>loan_status</th>\n",
       "      <td>0.062680</td>\n",
       "      <td>0.059535</td>\n",
       "      <td>0.040097</td>\n",
       "      <td>0.213497</td>\n",
       "      <td>0.029868</td>\n",
       "      <td>0.016126</td>\n",
       "      <td>-0.038501</td>\n",
       "      <td>1.000000</td>\n",
       "      <td>0.042803</td>\n",
       "      <td>0.018885</td>\n",
       "      <td>0.070874</td>\n",
       "      <td>-0.006293</td>\n",
       "      <td>0.049807</td>\n",
       "      <td>0.006679</td>\n",
       "      <td>0.099528</td>\n",
       "      <td>-0.020784</td>\n",
       "      <td>0.045625</td>\n",
       "    </tr>\n",
       "    <tr>\n",
       "      <th>dti</th>\n",
       "      <td>0.061402</td>\n",
       "      <td>0.061251</td>\n",
       "      <td>0.070007</td>\n",
       "      <td>0.112188</td>\n",
       "      <td>0.050727</td>\n",
       "      <td>0.050268</td>\n",
       "      <td>-0.123582</td>\n",
       "      <td>0.042803</td>\n",
       "      <td>1.000000</td>\n",
       "      <td>-0.034370</td>\n",
       "      <td>0.000480</td>\n",
       "      <td>0.288942</td>\n",
       "      <td>-0.004740</td>\n",
       "      <td>0.227602</td>\n",
       "      <td>0.279130</td>\n",
       "      <td>0.229949</td>\n",
       "      <td>0.006733</td>\n",
       "    </tr>\n",
       "    <tr>\n",
       "      <th>delinq_2yrs</th>\n",
       "      <td>-0.033757</td>\n",
       "      <td>-0.033857</td>\n",
       "      <td>-0.040029</td>\n",
       "      <td>0.158199</td>\n",
       "      <td>-0.021675</td>\n",
       "      <td>0.015690</td>\n",
       "      <td>0.021229</td>\n",
       "      <td>0.018885</td>\n",
       "      <td>-0.034370</td>\n",
       "      <td>1.000000</td>\n",
       "      <td>0.008305</td>\n",
       "      <td>0.010197</td>\n",
       "      <td>0.010188</td>\n",
       "      <td>-0.054401</td>\n",
       "      <td>-0.042610</td>\n",
       "      <td>0.066015</td>\n",
       "      <td>0.005739</td>\n",
       "    </tr>\n",
       "    <tr>\n",
       "      <th>inq_last_6mths</th>\n",
       "      <td>0.013068</td>\n",
       "      <td>0.013111</td>\n",
       "      <td>-0.002744</td>\n",
       "      <td>0.132576</td>\n",
       "      <td>0.011296</td>\n",
       "      <td>0.009475</td>\n",
       "      <td>0.035976</td>\n",
       "      <td>0.070874</td>\n",
       "      <td>0.000480</td>\n",
       "      <td>0.008305</td>\n",
       "      <td>1.000000</td>\n",
       "      <td>0.093807</td>\n",
       "      <td>0.023362</td>\n",
       "      <td>-0.021279</td>\n",
       "      <td>-0.070186</td>\n",
       "      <td>0.114065</td>\n",
       "      <td>0.014248</td>\n",
       "    </tr>\n",
       "    <tr>\n",
       "      <th>open_acc</th>\n",
       "      <td>0.174008</td>\n",
       "      <td>0.172546</td>\n",
       "      <td>0.159554</td>\n",
       "      <td>0.007594</td>\n",
       "      <td>0.169816</td>\n",
       "      <td>0.096710</td>\n",
       "      <td>0.154494</td>\n",
       "      <td>-0.006293</td>\n",
       "      <td>0.288942</td>\n",
       "      <td>0.010197</td>\n",
       "      <td>0.093807</td>\n",
       "      <td>1.000000</td>\n",
       "      <td>0.002685</td>\n",
       "      <td>0.287071</td>\n",
       "      <td>-0.088038</td>\n",
       "      <td>0.686249</td>\n",
       "      <td>0.009210</td>\n",
       "    </tr>\n",
       "    <tr>\n",
       "      <th>pub_rec</th>\n",
       "      <td>-0.046378</td>\n",
       "      <td>-0.046898</td>\n",
       "      <td>-0.048416</td>\n",
       "      <td>0.098996</td>\n",
       "      <td>-0.042153</td>\n",
       "      <td>0.064025</td>\n",
       "      <td>-0.014369</td>\n",
       "      <td>0.049807</td>\n",
       "      <td>-0.004740</td>\n",
       "      <td>0.010188</td>\n",
       "      <td>0.023362</td>\n",
       "      <td>0.002685</td>\n",
       "      <td>1.000000</td>\n",
       "      <td>-0.058550</td>\n",
       "      <td>0.058151</td>\n",
       "      <td>-0.019572</td>\n",
       "      <td>0.841631</td>\n",
       "    </tr>\n",
       "    <tr>\n",
       "      <th>revol_bal</th>\n",
       "      <td>0.313399</td>\n",
       "      <td>0.306119</td>\n",
       "      <td>0.285718</td>\n",
       "      <td>0.095136</td>\n",
       "      <td>0.309157</td>\n",
       "      <td>0.150441</td>\n",
       "      <td>0.276693</td>\n",
       "      <td>0.006679</td>\n",
       "      <td>0.227602</td>\n",
       "      <td>-0.054401</td>\n",
       "      <td>-0.021279</td>\n",
       "      <td>0.287071</td>\n",
       "      <td>-0.058550</td>\n",
       "      <td>1.000000</td>\n",
       "      <td>0.302893</td>\n",
       "      <td>0.313282</td>\n",
       "      <td>-0.046394</td>\n",
       "    </tr>\n",
       "    <tr>\n",
       "      <th>revol_util</th>\n",
       "      <td>0.062201</td>\n",
       "      <td>0.066283</td>\n",
       "      <td>0.071583</td>\n",
       "      <td>0.466023</td>\n",
       "      <td>0.091810</td>\n",
       "      <td>0.009931</td>\n",
       "      <td>0.014676</td>\n",
       "      <td>0.099528</td>\n",
       "      <td>0.279130</td>\n",
       "      <td>-0.042610</td>\n",
       "      <td>-0.070186</td>\n",
       "      <td>-0.088038</td>\n",
       "      <td>0.058151</td>\n",
       "      <td>0.302893</td>\n",
       "      <td>1.000000</td>\n",
       "      <td>-0.068009</td>\n",
       "      <td>0.059519</td>\n",
       "    </tr>\n",
       "    <tr>\n",
       "      <th>total_acc</th>\n",
       "      <td>0.255538</td>\n",
       "      <td>0.249803</td>\n",
       "      <td>0.241953</td>\n",
       "      <td>-0.045310</td>\n",
       "      <td>0.229250</td>\n",
       "      <td>0.207738</td>\n",
       "      <td>0.233436</td>\n",
       "      <td>-0.020784</td>\n",
       "      <td>0.229949</td>\n",
       "      <td>0.066015</td>\n",
       "      <td>0.114065</td>\n",
       "      <td>0.686249</td>\n",
       "      <td>-0.019572</td>\n",
       "      <td>0.313282</td>\n",
       "      <td>-0.068009</td>\n",
       "      <td>1.000000</td>\n",
       "      <td>-0.006620</td>\n",
       "    </tr>\n",
       "    <tr>\n",
       "      <th>pub_rec_bankruptcies</th>\n",
       "      <td>-0.031758</td>\n",
       "      <td>-0.032708</td>\n",
       "      <td>-0.037598</td>\n",
       "      <td>0.082988</td>\n",
       "      <td>-0.029352</td>\n",
       "      <td>0.062669</td>\n",
       "      <td>-0.012378</td>\n",
       "      <td>0.045625</td>\n",
       "      <td>0.006733</td>\n",
       "      <td>0.005739</td>\n",
       "      <td>0.014248</td>\n",
       "      <td>0.009210</td>\n",
       "      <td>0.841631</td>\n",
       "      <td>-0.046394</td>\n",
       "      <td>0.059519</td>\n",
       "      <td>-0.006620</td>\n",
       "      <td>1.000000</td>\n",
       "    </tr>\n",
       "  </tbody>\n",
       "</table>\n",
       "</div>"
      ],
      "text/plain": [
       "                      loan_amnt  funded_amnt  funded_amnt_inv  int_rate  \\\n",
       "loan_amnt              1.000000     0.981603         0.936871  0.299237   \n",
       "funded_amnt            0.981603     1.000000         0.955300  0.302955   \n",
       "funded_amnt_inv        0.936871     0.955300         1.000000  0.295697   \n",
       "int_rate               0.299237     0.302955         0.295697  1.000000   \n",
       "installment            0.931686     0.957721         0.904110  0.274791   \n",
       "emp_length             0.148895     0.148661         0.159903  0.000390   \n",
       "annual_inc             0.266282     0.261959         0.249320  0.046092   \n",
       "loan_status            0.062680     0.059535         0.040097  0.213497   \n",
       "dti                    0.061402     0.061251         0.070007  0.112188   \n",
       "delinq_2yrs           -0.033757    -0.033857        -0.040029  0.158199   \n",
       "inq_last_6mths         0.013068     0.013111        -0.002744  0.132576   \n",
       "open_acc               0.174008     0.172546         0.159554  0.007594   \n",
       "pub_rec               -0.046378    -0.046898        -0.048416  0.098996   \n",
       "revol_bal              0.313399     0.306119         0.285718  0.095136   \n",
       "revol_util             0.062201     0.066283         0.071583  0.466023   \n",
       "total_acc              0.255538     0.249803         0.241953 -0.045310   \n",
       "pub_rec_bankruptcies  -0.031758    -0.032708        -0.037598  0.082988   \n",
       "\n",
       "                      installment  emp_length  annual_inc  loan_status  \\\n",
       "loan_amnt                0.931686    0.148895    0.266282     0.062680   \n",
       "funded_amnt              0.957721    0.148661    0.261959     0.059535   \n",
       "funded_amnt_inv          0.904110    0.159903    0.249320     0.040097   \n",
       "int_rate                 0.274791    0.000390    0.046092     0.213497   \n",
       "installment              1.000000    0.121996    0.264684     0.029868   \n",
       "emp_length               0.121996    1.000000    0.110831     0.016126   \n",
       "annual_inc               0.264684    0.110831    1.000000    -0.038501   \n",
       "loan_status              0.029868    0.016126   -0.038501     1.000000   \n",
       "dti                      0.050727    0.050268   -0.123582     0.042803   \n",
       "delinq_2yrs             -0.021675    0.015690    0.021229     0.018885   \n",
       "inq_last_6mths           0.011296    0.009475    0.035976     0.070874   \n",
       "open_acc                 0.169816    0.096710    0.154494    -0.006293   \n",
       "pub_rec                 -0.042153    0.064025   -0.014369     0.049807   \n",
       "revol_bal                0.309157    0.150441    0.276693     0.006679   \n",
       "revol_util               0.091810    0.009931    0.014676     0.099528   \n",
       "total_acc                0.229250    0.207738    0.233436    -0.020784   \n",
       "pub_rec_bankruptcies    -0.029352    0.062669   -0.012378     0.045625   \n",
       "\n",
       "                           dti  delinq_2yrs  inq_last_6mths  open_acc  \\\n",
       "loan_amnt             0.061402    -0.033757        0.013068  0.174008   \n",
       "funded_amnt           0.061251    -0.033857        0.013111  0.172546   \n",
       "funded_amnt_inv       0.070007    -0.040029       -0.002744  0.159554   \n",
       "int_rate              0.112188     0.158199        0.132576  0.007594   \n",
       "installment           0.050727    -0.021675        0.011296  0.169816   \n",
       "emp_length            0.050268     0.015690        0.009475  0.096710   \n",
       "annual_inc           -0.123582     0.021229        0.035976  0.154494   \n",
       "loan_status           0.042803     0.018885        0.070874 -0.006293   \n",
       "dti                   1.000000    -0.034370        0.000480  0.288942   \n",
       "delinq_2yrs          -0.034370     1.000000        0.008305  0.010197   \n",
       "inq_last_6mths        0.000480     0.008305        1.000000  0.093807   \n",
       "open_acc              0.288942     0.010197        0.093807  1.000000   \n",
       "pub_rec              -0.004740     0.010188        0.023362  0.002685   \n",
       "revol_bal             0.227602    -0.054401       -0.021279  0.287071   \n",
       "revol_util            0.279130    -0.042610       -0.070186 -0.088038   \n",
       "total_acc             0.229949     0.066015        0.114065  0.686249   \n",
       "pub_rec_bankruptcies  0.006733     0.005739        0.014248  0.009210   \n",
       "\n",
       "                       pub_rec  revol_bal  revol_util  total_acc  \\\n",
       "loan_amnt            -0.046378   0.313399    0.062201   0.255538   \n",
       "funded_amnt          -0.046898   0.306119    0.066283   0.249803   \n",
       "funded_amnt_inv      -0.048416   0.285718    0.071583   0.241953   \n",
       "int_rate              0.098996   0.095136    0.466023  -0.045310   \n",
       "installment          -0.042153   0.309157    0.091810   0.229250   \n",
       "emp_length            0.064025   0.150441    0.009931   0.207738   \n",
       "annual_inc           -0.014369   0.276693    0.014676   0.233436   \n",
       "loan_status           0.049807   0.006679    0.099528  -0.020784   \n",
       "dti                  -0.004740   0.227602    0.279130   0.229949   \n",
       "delinq_2yrs           0.010188  -0.054401   -0.042610   0.066015   \n",
       "inq_last_6mths        0.023362  -0.021279   -0.070186   0.114065   \n",
       "open_acc              0.002685   0.287071   -0.088038   0.686249   \n",
       "pub_rec               1.000000  -0.058550    0.058151  -0.019572   \n",
       "revol_bal            -0.058550   1.000000    0.302893   0.313282   \n",
       "revol_util            0.058151   0.302893    1.000000  -0.068009   \n",
       "total_acc            -0.019572   0.313282   -0.068009   1.000000   \n",
       "pub_rec_bankruptcies  0.841631  -0.046394    0.059519  -0.006620   \n",
       "\n",
       "                      pub_rec_bankruptcies  \n",
       "loan_amnt                        -0.031758  \n",
       "funded_amnt                      -0.032708  \n",
       "funded_amnt_inv                  -0.037598  \n",
       "int_rate                          0.082988  \n",
       "installment                      -0.029352  \n",
       "emp_length                        0.062669  \n",
       "annual_inc                       -0.012378  \n",
       "loan_status                       0.045625  \n",
       "dti                               0.006733  \n",
       "delinq_2yrs                       0.005739  \n",
       "inq_last_6mths                    0.014248  \n",
       "open_acc                          0.009210  \n",
       "pub_rec                           0.841631  \n",
       "revol_bal                        -0.046394  \n",
       "revol_util                        0.059519  \n",
       "total_acc                        -0.006620  \n",
       "pub_rec_bankruptcies              1.000000  "
      ]
     },
     "execution_count": 96,
     "metadata": {},
     "output_type": "execute_result"
    }
   ],
   "source": [
    "#Let us see the correlation between each attributes against others\n",
    "df.corr()"
   ]
  },
  {
   "cell_type": "markdown",
   "id": "b190cd65",
   "metadata": {},
   "source": [
    "From the above results, we could see some atributes have positive correlation while others have negative correlation.\n",
    "We could see negative correlation with the attributes delinquency, public record bankruptices, revolving balance, public records that results in defaulters."
   ]
  },
  {
   "cell_type": "markdown",
   "id": "16c23947",
   "metadata": {},
   "source": [
    "## Segmented Univariate Analysis"
   ]
  },
  {
   "cell_type": "code",
   "execution_count": 97,
   "id": "0dc62fca",
   "metadata": {},
   "outputs": [
    {
     "data": {
      "image/png": "[encoded data removed]",
      "text/plain": [
       "<Figure size 432x288 with 1 Axes>"
      ]
     },
     "metadata": {
      "needs_background": "light"
     },
     "output_type": "display_data"
    }
   ],
   "source": [
    "#Create a bar plot using segmented univariate for loan_status comparing the annual_inc using mean\n",
    "df.groupby(['loan_status'])['annual_inc'].mean().plot.bar()\n",
    "plt.show()"
   ]
  },
  {
   "cell_type": "code",
   "execution_count": 98,
   "id": "969d1f5b",
   "metadata": {},
   "outputs": [
    {
     "data": {
      "image/png": "[encoded data removed]",
      "text/plain": [
       "<Figure size 432x288 with 1 Axes>"
      ]
     },
     "metadata": {
      "needs_background": "light"
     },
     "output_type": "display_data"
    }
   ],
   "source": [
    "#Create a bar plot using segmented univariate for loan_status comparing the annual_inc using median\n",
    "df.groupby(['loan_status'])['annual_inc'].median().plot.bar()\n",
    "plt.show()"
   ]
  },
  {
   "cell_type": "code",
   "execution_count": 99,
   "id": "2ad232b8",
   "metadata": {},
   "outputs": [
    {
     "data": {
      "image/png": "[encoded data removed]",
      "text/plain": [
       "<Figure size 432x288 with 1 Axes>"
      ]
     },
     "metadata": {
      "needs_background": "light"
     },
     "output_type": "display_data"
    }
   ],
   "source": [
    "#Create a bar plot using segmented univariate for loan_status comparing the loan_amnt using median\n",
    "df.groupby(['loan_status'])['loan_amnt'].median().plot.bar()\n",
    "plt.show()"
   ]
  },
  {
   "cell_type": "code",
   "execution_count": 100,
   "id": "253dbafb",
   "metadata": {},
   "outputs": [
    {
     "data": {
      "image/png": "[encoded data removed]",
      "text/plain": [
       "<Figure size 432x288 with 1 Axes>"
      ]
     },
     "metadata": {
      "needs_background": "light"
     },
     "output_type": "display_data"
    }
   ],
   "source": [
    "#Create a bar plot using segmented univariate for grade comparing the annual_inc using mean for defaulters and \n",
    "#fully paid\n",
    "df.groupby(['grade'])['annual_inc'].mean().plot.bar()\n",
    "plt.show()"
   ]
  },
  {
   "cell_type": "code",
   "execution_count": 101,
   "id": "f6cb36d6",
   "metadata": {},
   "outputs": [
    {
     "data": {
      "image/png": "[encoded data removed]",
      "text/plain": [
       "<Figure size 432x288 with 1 Axes>"
      ]
     },
     "metadata": {
      "needs_background": "light"
     },
     "output_type": "display_data"
    }
   ],
   "source": [
    "#Create a bar plot using segmented univariate for grade comparing the annual_inc using mean for defaulters\n",
    "df_choff.groupby(['grade'])['annual_inc'].mean().plot.bar()\n",
    "plt.show()"
   ]
  },
  {
   "cell_type": "code",
   "execution_count": 102,
   "id": "cc818aeb",
   "metadata": {},
   "outputs": [
    {
     "data": {
      "image/png": "[encoded data removed]",
      "text/plain": [
       "<Figure size 432x288 with 1 Axes>"
      ]
     },
     "metadata": {
      "needs_background": "light"
     },
     "output_type": "display_data"
    }
   ],
   "source": [
    "#Create a bar plot using segmented univariate for grade comparing the loan_amnt using mean\n",
    "df_choff.groupby(['grade'])['loan_amnt'].mean().plot.bar()\n",
    "plt.show()"
   ]
  },
  {
   "cell_type": "code",
   "execution_count": 103,
   "id": "6b0a7e1d",
   "metadata": {},
   "outputs": [
    {
     "data": {
      "image/png": "[encoded data removed]",
      "text/plain": [
       "<Figure size 432x288 with 1 Axes>"
      ]
     },
     "metadata": {
      "needs_background": "light"
     },
     "output_type": "display_data"
    }
   ],
   "source": [
    "#Create a bar plot using segmented univariate for verification_status comparing the annual_inc using mean\n",
    "df_choff.groupby(['verification_status'])['annual_inc'].max().plot.bar()\n",
    "plt.show()"
   ]
  },
  {
   "cell_type": "code",
   "execution_count": 104,
   "id": "ce2e4bb8",
   "metadata": {},
   "outputs": [
    {
     "data": {
      "image/png": "[encoded data removed]",
      "text/plain": [
       "<Figure size 432x288 with 1 Axes>"
      ]
     },
     "metadata": {
      "needs_background": "light"
     },
     "output_type": "display_data"
    }
   ],
   "source": [
    "#Create a bar plot using segmented univariate for emp_length with the loan_status using value_counts() metric\n",
    "df.groupby(['emp_length'])['loan_status'].value_counts().plot.bar()\n",
    "plt.show()"
   ]
  },
  {
   "cell_type": "markdown",
   "id": "4d3850ce",
   "metadata": {},
   "source": [
    "## Bivariate Analysis"
   ]
  },
  {
   "cell_type": "code",
   "execution_count": 105,
   "id": "aea2ab6e",
   "metadata": {},
   "outputs": [
    {
     "data": {
      "image/png": "[encoded data removed]",
      "text/plain": [
       "<Figure size 432x288 with 1 Axes>"
      ]
     },
     "metadata": {
      "needs_background": "light"
     },
     "output_type": "display_data"
    }
   ],
   "source": [
    "#Create bar plot for emp_length and annual_inc \n",
    "sns.barplot(df1.emp_length,df1.annual_inc)\n",
    "plt.show()"
   ]
  },
  {
   "cell_type": "markdown",
   "id": "e9448068",
   "metadata": {},
   "source": [
    "From the bar plot, we can see that employees with employment length above 10 years tend to be defaulters."
   ]
  },
  {
   "cell_type": "code",
   "execution_count": 106,
   "id": "f8c6f190",
   "metadata": {},
   "outputs": [
    {
     "data": {
      "image/png": "[encoded data removed]",
      "text/plain": [
       "<Figure size 432x288 with 1 Axes>"
      ]
     },
     "metadata": {
      "needs_background": "light"
     },
     "output_type": "display_data"
    }
   ],
   "source": [
    "#Create bar plot for purpose \n",
    "df1.purpose.value_counts().plot.bar()\n",
    "plt.show()"
   ]
  },
  {
   "cell_type": "markdown",
   "id": "6d029196",
   "metadata": {},
   "source": [
    "From the bar plot, we can see that consumers who took loan for debt_consolidation tend to be defaulters."
   ]
  },
  {
   "cell_type": "code",
   "execution_count": 107,
   "id": "b7e99f39",
   "metadata": {},
   "outputs": [
    {
     "data": {
      "image/png": "[encoded data removed]",
      "text/plain": [
       "<Figure size 432x432 with 3 Axes>"
      ]
     },
     "metadata": {
      "needs_background": "light"
     },
     "output_type": "display_data"
    }
   ],
   "source": [
    "#Create joint plot for annual_inc and loan_amnt \n",
    "sns.jointplot(df1.annual_inc,df1.loan_amnt,kind='reg')\n",
    "plt.show()"
   ]
  },
  {
   "cell_type": "markdown",
   "id": "e6c45b1b",
   "metadata": {},
   "source": [
    "From the above plot, we can confirm that as annual income increases, the loan amount also increases."
   ]
  },
  {
   "cell_type": "code",
   "execution_count": 108,
   "id": "ae375d56",
   "metadata": {},
   "outputs": [
    {
     "data": {
      "image/png": "[encoded data removed]",
      "text/plain": [
       "<Figure size 432x288 with 1 Axes>"
      ]
     },
     "metadata": {
      "needs_background": "light"
     },
     "output_type": "display_data"
    }
   ],
   "source": [
    "###Annual Income VS interest rate\n",
    "plt.scatter(df1['annual_inc'],df1['int_rate'])\n",
    "plt.show()"
   ]
  },
  {
   "cell_type": "markdown",
   "id": "f3d1fc3d",
   "metadata": {},
   "source": [
    "Scatter plot shows that for lesser annual income we have lesser interest rate for defaulters."
   ]
  },
  {
   "cell_type": "code",
   "execution_count": 109,
   "id": "9a66aa00",
   "metadata": {},
   "outputs": [
    {
     "data": {
      "image/png": "[encoded data removed]",
      "text/plain": [
       "<Figure size 432x288 with 1 Axes>"
      ]
     },
     "metadata": {
      "needs_background": "light"
     },
     "output_type": "display_data"
    }
   ],
   "source": [
    "###Annual Income VS interest rate\n",
    "plt.scatter(df1['annual_inc'],df1['loan_amnt'])\n",
    "plt.show()"
   ]
  },
  {
   "cell_type": "markdown",
   "id": "9f0cfe22",
   "metadata": {},
   "source": [
    "From above scatter plot, we can infer that lower income people distribution is more and they tend to become defaulters."
   ]
  },
  {
   "cell_type": "code",
   "execution_count": 110,
   "id": "d3ef9e8d",
   "metadata": {},
   "outputs": [
    {
     "data": {
      "image/png": "[encoded data removed]",
      "text/plain": [
       "<Figure size 432x288 with 1 Axes>"
      ]
     },
     "metadata": {
      "needs_background": "light"
     },
     "output_type": "display_data"
    }
   ],
   "source": [
    "##Plot the bar plot with only the 95th percentile of int_rate\n",
    "sns.barplot(data=df,x='loan_status',y='annual_inc',estimator=np.std)\n",
    "plt.show()"
   ]
  },
  {
   "cell_type": "markdown",
   "id": "2671b851",
   "metadata": {},
   "source": [
    "From the above bar plot, if we take standard deviation as estimator, the loan status is similar to that of estimator with mean."
   ]
  },
  {
   "cell_type": "code",
   "execution_count": 111,
   "id": "4afcb920",
   "metadata": {},
   "outputs": [
    {
     "data": {
      "image/png": "[encoded data removed]",
      "text/plain": [
       "<Figure size 432x288 with 1 Axes>"
      ]
     },
     "metadata": {
      "needs_background": "light"
     },
     "output_type": "display_data"
    }
   ],
   "source": [
    "##Plot the bar plot with only the 95th percentile of int_rate\n",
    "sns.barplot(data=df,x='loan_status',y='int_rate',estimator=lambda x: np.quantile(x,0.75))\n",
    "plt.show()"
   ]
  },
  {
   "cell_type": "markdown",
   "id": "b4178642",
   "metadata": {},
   "source": [
    "From the above bar plot, if we take quantitle with 0.75 as estimator, the loan status is different and could see defaulters are more compared to fully paid."
   ]
  },
  {
   "cell_type": "code",
   "execution_count": 112,
   "id": "9b6f14b1",
   "metadata": {},
   "outputs": [
    {
     "data": {
      "image/png": "[encoded data removed]",
      "text/plain": [
       "<Figure size 432x288 with 1 Axes>"
      ]
     },
     "metadata": {
      "needs_background": "light"
     },
     "output_type": "display_data"
    }
   ],
   "source": [
    "## Plot the bar plot with the minimum int_rate\n",
    "sns.barplot(data=df,x='loan_status',y='int_rate',estimator=np.min)\n",
    "plt.show()"
   ]
  },
  {
   "cell_type": "markdown",
   "id": "b8eb12f6",
   "metadata": {},
   "source": [
    "From the above bar plot, it doesnt make much difference if we consider minimum value as estimator."
   ]
  },
  {
   "cell_type": "code",
   "execution_count": 113,
   "id": "3269fceb",
   "metadata": {},
   "outputs": [
    {
     "data": {
      "image/png": "[encoded data removed]",
      "text/plain": [
       "<Figure size 432x288 with 1 Axes>"
      ]
     },
     "metadata": {
      "needs_background": "light"
     },
     "output_type": "display_data"
    }
   ],
   "source": [
    "## Plot the bar plot with the minimum int_rate\n",
    "sns.barplot(data=df,x='loan_status',y='int_rate',estimator=np.max)\n",
    "plt.show()"
   ]
  },
  {
   "cell_type": "markdown",
   "id": "675ea629",
   "metadata": {},
   "source": [
    "From the above bar plot, it doesnt make much difference if we consider maximum value as estimator."
   ]
  },
  {
   "cell_type": "code",
   "execution_count": 114,
   "id": "126769cb",
   "metadata": {},
   "outputs": [
    {
     "data": {
      "image/png": "[encoded data removed]",
      "text/plain": [
       "<Figure size 432x288 with 1 Axes>"
      ]
     },
     "metadata": {
      "needs_background": "light"
     },
     "output_type": "display_data"
    }
   ],
   "source": [
    "## Plot the bar plot with the minimum int_rate\n",
    "sns.barplot(data=df,x='loan_status',y='int_rate',estimator=np.mean)\n",
    "plt.show()"
   ]
  },
  {
   "cell_type": "markdown",
   "id": "2e462b98",
   "metadata": {},
   "source": [
    "From the above bar plot, it doesnt make much difference if we consider mean value as estimator."
   ]
  },
  {
   "cell_type": "code",
   "execution_count": 115,
   "id": "6d4ec4df",
   "metadata": {},
   "outputs": [
    {
     "data": {
      "image/png": "[encoded data removed]",
      "text/plain": [
       "<Figure size 432x288 with 1 Axes>"
      ]
     },
     "metadata": {
      "needs_background": "light"
     },
     "output_type": "display_data"
    }
   ],
   "source": [
    "## Plot the bar plot for loan status with int_rate\n",
    "import seaborn as sns\n",
    "sns.barplot(x='loan_status',y='int_rate',data=df)\n",
    "plt.show()"
   ]
  },
  {
   "cell_type": "markdown",
   "id": "746a2727",
   "metadata": {},
   "source": [
    "If we compare the interest rate with loan amount, most defaulters end up paying more interest rate. So customers who have greater interest rate tend to be defaulters."
   ]
  },
  {
   "cell_type": "code",
   "execution_count": 116,
   "id": "edba0b12",
   "metadata": {},
   "outputs": [
    {
     "data": {
      "image/png": "[encoded data removed]",
      "text/plain": [
       "<Figure size 432x288 with 1 Axes>"
      ]
     },
     "metadata": {
      "needs_background": "light"
     },
     "output_type": "display_data"
    }
   ],
   "source": [
    "## Plot the bar plot for loan status with installment\n",
    "sns.barplot(x='loan_status',y='installment',data=df)\n",
    "plt.show()"
   ]
  },
  {
   "cell_type": "markdown",
   "id": "7611ccc2",
   "metadata": {},
   "source": [
    "From the above bar plot, when installment is compared for loan status, then defaulter pay greater amount of installment. If the installment amount is greater, then they become defaulters."
   ]
  },
  {
   "cell_type": "code",
   "execution_count": 117,
   "id": "974f9edf",
   "metadata": {},
   "outputs": [
    {
     "data": {
      "image/png": "[encoded data removed]",
      "text/plain": [
       "<Figure size 432x288 with 1 Axes>"
      ]
     },
     "metadata": {
      "needs_background": "light"
     },
     "output_type": "display_data"
    }
   ],
   "source": [
    "## Plot the box plot for loan status with int_rate\n",
    "sns.boxplot(data=df,x='loan_status',y='int_rate')\n",
    "plt.show()"
   ]
  },
  {
   "cell_type": "markdown",
   "id": "608420a4",
   "metadata": {},
   "source": [
    "Let us plot a box plot using loan status and interest rate. We see that the interest rate is higher for the defaulters compared to Fully paid customers."
   ]
  },
  {
   "cell_type": "code",
   "execution_count": 118,
   "id": "d8deabda",
   "metadata": {},
   "outputs": [
    {
     "data": {
      "image/png": "[encoded data removed]",
      "text/plain": [
       "<Figure size 540x540 with 12 Axes>"
      ]
     },
     "metadata": {
      "needs_background": "light"
     },
     "output_type": "display_data"
    }
   ],
   "source": [
    "## Plot the pair plot for int_rate, loan_amnt, annual_inc\n",
    "sns.pairplot(df_choff[['int_rate','loan_amnt','annual_inc']])\n",
    "plt.show()"
   ]
  },
  {
   "cell_type": "markdown",
   "id": "7a282224",
   "metadata": {},
   "source": [
    "Using pair plot, we could see how int_rate, loan_amnt and annual_inc for defaulters to see how they are correlated.\n",
    "From the plot, we could see defaulters are from low annual income, with loan amount between 10000-30000 and with interest rate between 12.5-14.5%"
   ]
  },
  {
   "cell_type": "markdown",
   "id": "26e4fc0f",
   "metadata": {},
   "source": [
    "## Derived Metrics"
   ]
  },
  {
   "cell_type": "code",
   "execution_count": 119,
   "id": "d6a78a7a",
   "metadata": {},
   "outputs": [
    {
     "data": {
      "text/plain": [
       "dtype('O')"
      ]
     },
     "execution_count": 119,
     "metadata": {},
     "output_type": "execute_result"
    }
   ],
   "source": [
    "#Let us see the field issue_d\n",
    "df1.issue_d.head()\n",
    "df1.issue_d.dtypes"
   ]
  },
  {
   "cell_type": "code",
   "execution_count": 120,
   "id": "a05d5d54",
   "metadata": {},
   "outputs": [
    {
     "data": {
      "text/html": [
       "<div>\n",
       "<style scoped>\n",
       "    .dataframe tbody tr th:only-of-type {\n",
       "        vertical-align: middle;\n",
       "    }\n",
       "\n",
       "    .dataframe tbody tr th {\n",
       "        vertical-align: top;\n",
       "    }\n",
       "\n",
       "    .dataframe thead th {\n",
       "        text-align: right;\n",
       "    }\n",
       "</style>\n",
       "<table border=\"1\" class=\"dataframe\">\n",
       "  <thead>\n",
       "    <tr style=\"text-align: right;\">\n",
       "      <th></th>\n",
       "      <th>loan_amnt</th>\n",
       "      <th>funded_amnt</th>\n",
       "      <th>funded_amnt_inv</th>\n",
       "      <th>term</th>\n",
       "      <th>int_rate</th>\n",
       "      <th>installment</th>\n",
       "      <th>grade</th>\n",
       "      <th>sub_grade</th>\n",
       "      <th>emp_title</th>\n",
       "      <th>emp_length</th>\n",
       "      <th>...</th>\n",
       "      <th>dti</th>\n",
       "      <th>delinq_2yrs</th>\n",
       "      <th>inq_last_6mths</th>\n",
       "      <th>open_acc</th>\n",
       "      <th>pub_rec</th>\n",
       "      <th>revol_bal</th>\n",
       "      <th>revol_util</th>\n",
       "      <th>total_acc</th>\n",
       "      <th>pub_rec_bankruptcies</th>\n",
       "      <th>Date</th>\n",
       "    </tr>\n",
       "  </thead>\n",
       "  <tbody>\n",
       "    <tr>\n",
       "      <th>1</th>\n",
       "      <td>2500</td>\n",
       "      <td>2500</td>\n",
       "      <td>2500.0</td>\n",
       "      <td>60 months</td>\n",
       "      <td>15.27</td>\n",
       "      <td>59.83</td>\n",
       "      <td>C</td>\n",
       "      <td>C4</td>\n",
       "      <td>Ryder</td>\n",
       "      <td>0</td>\n",
       "      <td>...</td>\n",
       "      <td>1.00</td>\n",
       "      <td>0</td>\n",
       "      <td>5</td>\n",
       "      <td>3</td>\n",
       "      <td>0</td>\n",
       "      <td>1687</td>\n",
       "      <td>9.4</td>\n",
       "      <td>4</td>\n",
       "      <td>0.0</td>\n",
       "      <td>2011-12-01</td>\n",
       "    </tr>\n",
       "    <tr>\n",
       "      <th>8</th>\n",
       "      <td>5600</td>\n",
       "      <td>5600</td>\n",
       "      <td>5600.0</td>\n",
       "      <td>60 months</td>\n",
       "      <td>21.28</td>\n",
       "      <td>152.39</td>\n",
       "      <td>F</td>\n",
       "      <td>F2</td>\n",
       "      <td>Others</td>\n",
       "      <td>4</td>\n",
       "      <td>...</td>\n",
       "      <td>5.55</td>\n",
       "      <td>0</td>\n",
       "      <td>2</td>\n",
       "      <td>11</td>\n",
       "      <td>0</td>\n",
       "      <td>5210</td>\n",
       "      <td>32.6</td>\n",
       "      <td>13</td>\n",
       "      <td>0.0</td>\n",
       "      <td>2011-12-01</td>\n",
       "    </tr>\n",
       "    <tr>\n",
       "      <th>9</th>\n",
       "      <td>5375</td>\n",
       "      <td>5375</td>\n",
       "      <td>5350.0</td>\n",
       "      <td>60 months</td>\n",
       "      <td>12.69</td>\n",
       "      <td>121.45</td>\n",
       "      <td>B</td>\n",
       "      <td>B5</td>\n",
       "      <td>Starbucks</td>\n",
       "      <td>0</td>\n",
       "      <td>...</td>\n",
       "      <td>18.08</td>\n",
       "      <td>0</td>\n",
       "      <td>0</td>\n",
       "      <td>2</td>\n",
       "      <td>0</td>\n",
       "      <td>9279</td>\n",
       "      <td>36.5</td>\n",
       "      <td>3</td>\n",
       "      <td>0.0</td>\n",
       "      <td>2011-12-01</td>\n",
       "    </tr>\n",
       "    <tr>\n",
       "      <th>12</th>\n",
       "      <td>9000</td>\n",
       "      <td>9000</td>\n",
       "      <td>9000.0</td>\n",
       "      <td>36 months</td>\n",
       "      <td>13.49</td>\n",
       "      <td>305.38</td>\n",
       "      <td>C</td>\n",
       "      <td>C1</td>\n",
       "      <td>Va. Dept of Conservation/Recreation</td>\n",
       "      <td>0</td>\n",
       "      <td>...</td>\n",
       "      <td>10.08</td>\n",
       "      <td>0</td>\n",
       "      <td>1</td>\n",
       "      <td>4</td>\n",
       "      <td>0</td>\n",
       "      <td>10452</td>\n",
       "      <td>91.7</td>\n",
       "      <td>9</td>\n",
       "      <td>0.0</td>\n",
       "      <td>2011-12-01</td>\n",
       "    </tr>\n",
       "    <tr>\n",
       "      <th>14</th>\n",
       "      <td>10000</td>\n",
       "      <td>10000</td>\n",
       "      <td>10000.0</td>\n",
       "      <td>36 months</td>\n",
       "      <td>10.65</td>\n",
       "      <td>325.74</td>\n",
       "      <td>B</td>\n",
       "      <td>B2</td>\n",
       "      <td>SFMTA</td>\n",
       "      <td>3</td>\n",
       "      <td>...</td>\n",
       "      <td>7.06</td>\n",
       "      <td>0</td>\n",
       "      <td>2</td>\n",
       "      <td>14</td>\n",
       "      <td>0</td>\n",
       "      <td>11997</td>\n",
       "      <td>55.5</td>\n",
       "      <td>29</td>\n",
       "      <td>0.0</td>\n",
       "      <td>2011-12-01</td>\n",
       "    </tr>\n",
       "  </tbody>\n",
       "</table>\n",
       "<p>5 rows × 27 columns</p>\n",
       "</div>"
      ],
      "text/plain": [
       "    loan_amnt  funded_amnt  funded_amnt_inv        term  int_rate  \\\n",
       "1        2500         2500           2500.0   60 months     15.27   \n",
       "8        5600         5600           5600.0   60 months     21.28   \n",
       "9        5375         5375           5350.0   60 months     12.69   \n",
       "12       9000         9000           9000.0   36 months     13.49   \n",
       "14      10000        10000          10000.0   36 months     10.65   \n",
       "\n",
       "    installment grade sub_grade                            emp_title  \\\n",
       "1         59.83     C        C4                                Ryder   \n",
       "8        152.39     F        F2                               Others   \n",
       "9        121.45     B        B5                            Starbucks   \n",
       "12       305.38     C        C1  Va. Dept of Conservation/Recreation   \n",
       "14       325.74     B        B2                                SFMTA   \n",
       "\n",
       "    emp_length  ...    dti  delinq_2yrs inq_last_6mths open_acc  pub_rec  \\\n",
       "1            0  ...   1.00            0              5        3        0   \n",
       "8            4  ...   5.55            0              2       11        0   \n",
       "9            0  ...  18.08            0              0        2        0   \n",
       "12           0  ...  10.08            0              1        4        0   \n",
       "14           3  ...   7.06            0              2       14        0   \n",
       "\n",
       "   revol_bal revol_util  total_acc  pub_rec_bankruptcies       Date  \n",
       "1       1687        9.4          4                   0.0 2011-12-01  \n",
       "8       5210       32.6         13                   0.0 2011-12-01  \n",
       "9       9279       36.5          3                   0.0 2011-12-01  \n",
       "12     10452       91.7          9                   0.0 2011-12-01  \n",
       "14     11997       55.5         29                   0.0 2011-12-01  \n",
       "\n",
       "[5 rows x 27 columns]"
      ]
     },
     "execution_count": 120,
     "metadata": {},
     "output_type": "execute_result"
    }
   ],
   "source": [
    "#Create new column date of format datetime.\n",
    "from datetime import datetime\n",
    "df1['Date'] = df1.issue_d.apply(lambda x : datetime.strptime(x,\"%b-%y\"))\n",
    "df1.head()"
   ]
  },
  {
   "cell_type": "code",
   "execution_count": 121,
   "id": "eea03ec9",
   "metadata": {},
   "outputs": [],
   "source": [
    "#Create two new columns Issued Year and Issued Month \n",
    "df1['Issued Year'] = df1['Date'].dt.year\n",
    "df1['Issued Month'] = df1['Date'].dt.month"
   ]
  },
  {
   "cell_type": "code",
   "execution_count": 122,
   "id": "b22edef6",
   "metadata": {},
   "outputs": [
    {
     "data": {
      "text/html": [
       "<div>\n",
       "<style scoped>\n",
       "    .dataframe tbody tr th:only-of-type {\n",
       "        vertical-align: middle;\n",
       "    }\n",
       "\n",
       "    .dataframe tbody tr th {\n",
       "        vertical-align: top;\n",
       "    }\n",
       "\n",
       "    .dataframe thead th {\n",
       "        text-align: right;\n",
       "    }\n",
       "</style>\n",
       "<table border=\"1\" class=\"dataframe\">\n",
       "  <thead>\n",
       "    <tr style=\"text-align: right;\">\n",
       "      <th></th>\n",
       "      <th>loan_amnt</th>\n",
       "      <th>funded_amnt</th>\n",
       "      <th>funded_amnt_inv</th>\n",
       "      <th>term</th>\n",
       "      <th>int_rate</th>\n",
       "      <th>installment</th>\n",
       "      <th>grade</th>\n",
       "      <th>sub_grade</th>\n",
       "      <th>emp_title</th>\n",
       "      <th>emp_length</th>\n",
       "      <th>...</th>\n",
       "      <th>inq_last_6mths</th>\n",
       "      <th>open_acc</th>\n",
       "      <th>pub_rec</th>\n",
       "      <th>revol_bal</th>\n",
       "      <th>revol_util</th>\n",
       "      <th>total_acc</th>\n",
       "      <th>pub_rec_bankruptcies</th>\n",
       "      <th>Date</th>\n",
       "      <th>Issued Year</th>\n",
       "      <th>Issued Month</th>\n",
       "    </tr>\n",
       "  </thead>\n",
       "  <tbody>\n",
       "    <tr>\n",
       "      <th>1</th>\n",
       "      <td>2500</td>\n",
       "      <td>2500</td>\n",
       "      <td>2500.0</td>\n",
       "      <td>60 months</td>\n",
       "      <td>15.27</td>\n",
       "      <td>59.83</td>\n",
       "      <td>C</td>\n",
       "      <td>C4</td>\n",
       "      <td>Ryder</td>\n",
       "      <td>0</td>\n",
       "      <td>...</td>\n",
       "      <td>5</td>\n",
       "      <td>3</td>\n",
       "      <td>0</td>\n",
       "      <td>1687</td>\n",
       "      <td>9.4</td>\n",
       "      <td>4</td>\n",
       "      <td>0.0</td>\n",
       "      <td>2011-12-01</td>\n",
       "      <td>2011</td>\n",
       "      <td>12</td>\n",
       "    </tr>\n",
       "    <tr>\n",
       "      <th>8</th>\n",
       "      <td>5600</td>\n",
       "      <td>5600</td>\n",
       "      <td>5600.0</td>\n",
       "      <td>60 months</td>\n",
       "      <td>21.28</td>\n",
       "      <td>152.39</td>\n",
       "      <td>F</td>\n",
       "      <td>F2</td>\n",
       "      <td>Others</td>\n",
       "      <td>4</td>\n",
       "      <td>...</td>\n",
       "      <td>2</td>\n",
       "      <td>11</td>\n",
       "      <td>0</td>\n",
       "      <td>5210</td>\n",
       "      <td>32.6</td>\n",
       "      <td>13</td>\n",
       "      <td>0.0</td>\n",
       "      <td>2011-12-01</td>\n",
       "      <td>2011</td>\n",
       "      <td>12</td>\n",
       "    </tr>\n",
       "    <tr>\n",
       "      <th>9</th>\n",
       "      <td>5375</td>\n",
       "      <td>5375</td>\n",
       "      <td>5350.0</td>\n",
       "      <td>60 months</td>\n",
       "      <td>12.69</td>\n",
       "      <td>121.45</td>\n",
       "      <td>B</td>\n",
       "      <td>B5</td>\n",
       "      <td>Starbucks</td>\n",
       "      <td>0</td>\n",
       "      <td>...</td>\n",
       "      <td>0</td>\n",
       "      <td>2</td>\n",
       "      <td>0</td>\n",
       "      <td>9279</td>\n",
       "      <td>36.5</td>\n",
       "      <td>3</td>\n",
       "      <td>0.0</td>\n",
       "      <td>2011-12-01</td>\n",
       "      <td>2011</td>\n",
       "      <td>12</td>\n",
       "    </tr>\n",
       "    <tr>\n",
       "      <th>12</th>\n",
       "      <td>9000</td>\n",
       "      <td>9000</td>\n",
       "      <td>9000.0</td>\n",
       "      <td>36 months</td>\n",
       "      <td>13.49</td>\n",
       "      <td>305.38</td>\n",
       "      <td>C</td>\n",
       "      <td>C1</td>\n",
       "      <td>Va. Dept of Conservation/Recreation</td>\n",
       "      <td>0</td>\n",
       "      <td>...</td>\n",
       "      <td>1</td>\n",
       "      <td>4</td>\n",
       "      <td>0</td>\n",
       "      <td>10452</td>\n",
       "      <td>91.7</td>\n",
       "      <td>9</td>\n",
       "      <td>0.0</td>\n",
       "      <td>2011-12-01</td>\n",
       "      <td>2011</td>\n",
       "      <td>12</td>\n",
       "    </tr>\n",
       "    <tr>\n",
       "      <th>14</th>\n",
       "      <td>10000</td>\n",
       "      <td>10000</td>\n",
       "      <td>10000.0</td>\n",
       "      <td>36 months</td>\n",
       "      <td>10.65</td>\n",
       "      <td>325.74</td>\n",
       "      <td>B</td>\n",
       "      <td>B2</td>\n",
       "      <td>SFMTA</td>\n",
       "      <td>3</td>\n",
       "      <td>...</td>\n",
       "      <td>2</td>\n",
       "      <td>14</td>\n",
       "      <td>0</td>\n",
       "      <td>11997</td>\n",
       "      <td>55.5</td>\n",
       "      <td>29</td>\n",
       "      <td>0.0</td>\n",
       "      <td>2011-12-01</td>\n",
       "      <td>2011</td>\n",
       "      <td>12</td>\n",
       "    </tr>\n",
       "  </tbody>\n",
       "</table>\n",
       "<p>5 rows × 29 columns</p>\n",
       "</div>"
      ],
      "text/plain": [
       "    loan_amnt  funded_amnt  funded_amnt_inv        term  int_rate  \\\n",
       "1        2500         2500           2500.0   60 months     15.27   \n",
       "8        5600         5600           5600.0   60 months     21.28   \n",
       "9        5375         5375           5350.0   60 months     12.69   \n",
       "12       9000         9000           9000.0   36 months     13.49   \n",
       "14      10000        10000          10000.0   36 months     10.65   \n",
       "\n",
       "    installment grade sub_grade                            emp_title  \\\n",
       "1         59.83     C        C4                                Ryder   \n",
       "8        152.39     F        F2                               Others   \n",
       "9        121.45     B        B5                            Starbucks   \n",
       "12       305.38     C        C1  Va. Dept of Conservation/Recreation   \n",
       "14       325.74     B        B2                                SFMTA   \n",
       "\n",
       "    emp_length  ... inq_last_6mths  open_acc pub_rec revol_bal  revol_util  \\\n",
       "1            0  ...              5         3       0      1687         9.4   \n",
       "8            4  ...              2        11       0      5210        32.6   \n",
       "9            0  ...              0         2       0      9279        36.5   \n",
       "12           0  ...              1         4       0     10452        91.7   \n",
       "14           3  ...              2        14       0     11997        55.5   \n",
       "\n",
       "   total_acc pub_rec_bankruptcies       Date  Issued Year  Issued Month  \n",
       "1          4                  0.0 2011-12-01         2011            12  \n",
       "8         13                  0.0 2011-12-01         2011            12  \n",
       "9          3                  0.0 2011-12-01         2011            12  \n",
       "12         9                  0.0 2011-12-01         2011            12  \n",
       "14        29                  0.0 2011-12-01         2011            12  \n",
       "\n",
       "[5 rows x 29 columns]"
      ]
     },
     "execution_count": 122,
     "metadata": {},
     "output_type": "execute_result"
    }
   ],
   "source": [
    "df1.head()"
   ]
  },
  {
   "cell_type": "markdown",
   "id": "3869ebd4",
   "metadata": {},
   "source": [
    "We have month and Year and we could perform analysis depending upon Month and Year."
   ]
  },
  {
   "cell_type": "code",
   "execution_count": 123,
   "id": "ddb75ea4",
   "metadata": {},
   "outputs": [
    {
     "data": {
      "image/png": "[encoded data removed]",
      "text/plain": [
       "<Figure size 432x288 with 1 Axes>"
      ]
     },
     "metadata": {
      "needs_background": "light"
     },
     "output_type": "display_data"
    }
   ],
   "source": [
    "#Plot a bar for loan issued in the Month.\n",
    "df1['Issued Month'].value_counts().plot.bar()\n",
    "plt.show()"
   ]
  },
  {
   "cell_type": "markdown",
   "id": "f3f71f89",
   "metadata": {},
   "source": [
    "Loan is issued more in the later part of the Year."
   ]
  },
  {
   "cell_type": "code",
   "execution_count": 124,
   "id": "a62154a0",
   "metadata": {},
   "outputs": [
    {
     "data": {
      "image/png": "[encoded data removed]",
      "text/plain": [
       "<Figure size 432x288 with 1 Axes>"
      ]
     },
     "metadata": {
      "needs_background": "light"
     },
     "output_type": "display_data"
    }
   ],
   "source": [
    "#Plot a bar for loan issued in the Year.\n",
    "df1['Issued Year'].value_counts().plot.bar()\n",
    "plt.show()"
   ]
  },
  {
   "cell_type": "markdown",
   "id": "8b7c124d",
   "metadata": {},
   "source": [
    "Loan is issued more in the year 2011."
   ]
  },
  {
   "cell_type": "code",
   "execution_count": 125,
   "id": "172e4118",
   "metadata": {},
   "outputs": [
    {
     "data": {
      "image/png": "[encoded data removed]",
      "text/plain": [
       "<Figure size 720x360 with 1 Axes>"
      ]
     },
     "metadata": {
      "needs_background": "light"
     },
     "output_type": "display_data"
    }
   ],
   "source": [
    "## Plot a line graph\n",
    "plt.figure(figsize=[10,5])\n",
    "df1.groupby(['Issued Month'])['funded_amnt'].mean().plot()\n",
    "plt.show()"
   ]
  },
  {
   "cell_type": "markdown",
   "id": "5bdb8b8d",
   "metadata": {},
   "source": [
    "With above line chart, we see that funded amount decreases between March-June."
   ]
  },
  {
   "cell_type": "code",
   "execution_count": 126,
   "id": "6f957864",
   "metadata": {},
   "outputs": [],
   "source": [
    "## Create a pivot table for Employee Grade and Issued Month with the values set to loan_status\n",
    "grade= pd.pivot_table(data=df1,values='loan_status',index='Issued Month',columns='grade',aggfunc=sum)"
   ]
  },
  {
   "cell_type": "code",
   "execution_count": 127,
   "id": "cc4eef54",
   "metadata": {},
   "outputs": [
    {
     "data": {
      "image/png": "[encoded data removed]",
      "text/plain": [
       "<Figure size 720x432 with 1 Axes>"
      ]
     },
     "metadata": {
      "needs_background": "light"
     },
     "output_type": "display_data"
    }
   ],
   "source": [
    "grade.plot(kind='bar',stacked='True',figsize=[10,6])\n",
    "plt.show()"
   ]
  },
  {
   "cell_type": "markdown",
   "id": "a5cdd0df",
   "metadata": {},
   "source": [
    "We can see that defaulters are in the grade B-E."
   ]
  },
  {
   "cell_type": "code",
   "execution_count": 128,
   "id": "19e39bb7",
   "metadata": {},
   "outputs": [],
   "source": [
    "## Create a pivot table for Employee Grade and Issued Month with the values set to loan_status\n",
    "emplen= pd.pivot_table(data=df1,values='loan_status',index='emp_length',columns='grade',aggfunc=sum)"
   ]
  },
  {
   "cell_type": "code",
   "execution_count": 129,
   "id": "9f2bee6e",
   "metadata": {},
   "outputs": [
    {
     "data": {
      "image/png": "[encoded data removed]",
      "text/plain": [
       "<Figure size 720x432 with 1 Axes>"
      ]
     },
     "metadata": {
      "needs_background": "light"
     },
     "output_type": "display_data"
    }
   ],
   "source": [
    "emplen.plot(kind='bar',stacked='True',figsize=[10,6])\n",
    "plt.show()"
   ]
  },
  {
   "cell_type": "markdown",
   "id": "bbe34e1c",
   "metadata": {},
   "source": [
    "Employees with experience greater than 10 are defaulters."
   ]
  },
  {
   "cell_type": "markdown",
   "id": "cc0af5db",
   "metadata": {},
   "source": [
    "## Conclusion:\n",
    "- The consumer who has been working for over 10 years is more likely to default, based on his or her Employment length. \n",
    "- The purpose of the loan determines how likely consumers are to default. Consumers who consolidate their debts are more likely to default. Since these consumers already have debt, they tend to default. \n",
    "- Majority of defaulters are from California, Florida, New York, Texas and New Jersey. When lending money to consumers from these states, we must verify their credit status.\n",
    "- Customers opting for shorter terms tend to default more often.\n",
    "- Paying rent or having a mortgage loan tends to put consumers at risk of default.\n",
    "- In lower grades between B and D, consumers are more likely to default.\n",
    "- Consumers whose annual income is in the range of 40,000-70,000 are at a greater risk of default\n",
    "- As we can see from the loan amount, default rates are higher when loan amounts are lower.\n",
    "- We can see that interest rates between 12-17% tend to be more dense, and the consumers tend to default.\n",
    "- In the distribution plot for the dti field, we see defaulters are more in the range of 10-22.5% \n",
    "- We can see from the distribution plot for the open credit line that defaulters are more likely to occur when the credit line is lower.\n",
    "- Consumers from Bank of America, US Army, Walmart, and UPS are listed as defaulters.\n",
    "- We can see that the percentage of defaulters is equal in both cases. As a result, this factor does not favor the defaulter.\n"
   ]
  },
  {
   "cell_type": "code",
   "execution_count": null,
   "id": "97555c0d",
   "metadata": {},
   "outputs": [],
   "source": []
  }
 ],
 "metadata": {
  "kernelspec": {
   "display_name": "Python 3 (ipykernel)",
   "language": "python",
   "name": "python3"
  },
  "language_info": {
   "codemirror_mode": {
    "name": "ipython",
    "version": 3
   },
   "file_extension": ".py",
   "mimetype": "text/x-python",
   "name": "python",
   "nbconvert_exporter": "python",
   "pygments_lexer": "ipython3",
   "version": "3.9.7"
  }
 },
 "nbformat": 4,
 "nbformat_minor": 5
}
